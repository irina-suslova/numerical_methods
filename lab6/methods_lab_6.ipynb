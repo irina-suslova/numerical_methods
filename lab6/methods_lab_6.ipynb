{
 "cells": [
  {
   "cell_type": "code",
   "execution_count": 203,
   "id": "c2b82354",
   "metadata": {},
   "outputs": [],
   "source": [
    "import sympy as sp\n",
    "import numpy as np\n",
    "import matplotlib.pyplot as plt"
   ]
  },
  {
   "cell_type": "code",
   "execution_count": 204,
   "id": "113350ee",
   "metadata": {},
   "outputs": [],
   "source": [
    "# variant 27\n",
    "# u\" + 2 th(x) u' + 1 / ch^4 (x) u = -4 thx - 2x / ch^4 (x)\n",
    "# u(0) + u'(0) = -1, u'(1) = -1.6960\n",
    "# u0(x) = sin(th(x)) - 2x"
   ]
  },
  {
   "cell_type": "code",
   "execution_count": 205,
   "id": "8425ce44",
   "metadata": {},
   "outputs": [],
   "source": [
    "# parameters that can be changed\n",
    "\n",
    "h = 0.05"
   ]
  },
  {
   "cell_type": "code",
   "execution_count": 206,
   "id": "fd307b48",
   "metadata": {},
   "outputs": [],
   "source": [
    "# function declaration\n",
    "# k(0) u'(0) = delta_1 u(0) - epsilon_1\n",
    "# -k(1) u'(1) = delta_2 u(1) - epsilon_2\n",
    "# d/dx (k(x)u'(x)) - q(x) u = - f(x)\n",
    "\n",
    "# d/dx (ch^2(x) u'(x)) + 1 / ch^2(x) u(x) = -4 sh(x) ch(x) - 2x / ch^2(x)\n",
    "\n",
    "start = 0\n",
    "end = 1\n",
    "\n",
    "delta_1 = -1\n",
    "epsilon_1 = 1\n",
    "delta_2 = 0\n",
    "epsilon_2 = -pow(sp.cosh(1).n(), 2) * 1.6960\n",
    "\n",
    "x = sp.symbols('x')\n",
    "k = pow(sp.cosh(x), 2)\n",
    "q = -1 / pow(sp.cosh(x), 2)\n",
    "f = 4 * sp.sinh(x) * sp.cosh(x) + 2 * x / pow(sp.cosh(x), 2)\n",
    "\n",
    "u0 = sp.sin(sp.tanh(x)) - 2 * x"
   ]
  },
  {
   "cell_type": "code",
   "execution_count": 207,
   "id": "4e07a3c1",
   "metadata": {},
   "outputs": [],
   "source": [
    "# coords\n",
    "\n",
    "n = round((end - start) / h) + 1\n",
    "coords = [start + i * h for i in range(n)]"
   ]
  },
  {
   "cell_type": "code",
   "execution_count": 208,
   "id": "affe6a2f",
   "metadata": {},
   "outputs": [],
   "source": [
    "# forward\n",
    "\n",
    "a0 = k.subs(x, 0).n()\n",
    "b0 = -(k.subs(x, 0).n() + delta_1 * h)\n",
    "c0 = 0\n",
    "d0 = -epsilon_1 * h\n",
    "\n",
    "a = [a0]\n",
    "b = [b0]\n",
    "c = [c0]\n",
    "d = [d0]\n",
    "\n",
    "for i in range(1, n):\n",
    "    a.append(k.subs(x, coords[i] + h/2).n())\n",
    "    b.append(-(k.subs(x, coords[i] + h/2).n() + k.subs(x, coords[i] - h/2).n() + pow(h, 2) * q.subs(x, coords[i]).n()))\n",
    "    c.append(k.subs(x, coords[i] - h/2).n())\n",
    "    d.append(- f.subs(x, coords[i]).n() * pow(h, 2))\n",
    "\n",
    "a.append(0)\n",
    "b.append(-(k.subs(x, 1).n() + delta_2 * h).n())\n",
    "c.append(k.subs(x, 1).n())\n",
    "d.append(-epsilon_2 * h)\n",
    "\n",
    "alpha0 = -a[0]/b[0]\n",
    "beta0 = d[0]/b[0]\n",
    "\n",
    "alpha = [alpha0]\n",
    "beta = [beta0]\n",
    "\n",
    "for i in range(1, n):\n",
    "    alpha.append(- a[i] / (b[i] + c[i] * alpha[i - 1]))\n",
    "    beta.append((d[i] - c[i] * beta[i - 1]) / (b[i] + c[i] * alpha[i - 1]))"
   ]
  },
  {
   "cell_type": "code",
   "execution_count": 209,
   "id": "aedf2983",
   "metadata": {},
   "outputs": [],
   "source": [
    "# backward\n",
    "\n",
    "un = (d[n] - c[n] * beta[n - 1]) / (b[n] + c[n] * alpha[n - 1])\n",
    "u = [un]\n",
    "for i in range(n - 1, -1, -1):\n",
    "    u.append(alpha[i] * u[len(u) - 1] + beta[i])\n",
    "u.reverse()"
   ]
  },
  {
   "cell_type": "code",
   "execution_count": 211,
   "id": "cc538f49",
   "metadata": {},
   "outputs": [
    {
     "data": {
      "text/plain": [
       "<matplotlib.legend.Legend at 0x15ba0ff0>"
      ]
     },
     "execution_count": 211,
     "metadata": {},
     "output_type": "execute_result"
    },
    {
     "data": {
      "image/png": "[encoded data removed]",
      "text/plain": [
       "<Figure size 432x288 with 1 Axes>"
      ]
     },
     "metadata": {
      "needs_background": "light"
     },
     "output_type": "display_data"
    }
   ],
   "source": [
    "# plotting\n",
    "\n",
    "u0coords = [u0.subs(x, coords[i]) for i in range(n)]\n",
    "plt.plot(coords, u[:n])\n",
    "plt.plot(coords, u0coords)\n",
    "plt.legend(['u_counted', 'u0'])"
   ]
  },
  {
   "cell_type": "code",
   "execution_count": null,
   "id": "e505e162",
   "metadata": {},
   "outputs": [],
   "source": []
  }
 ],
 "metadata": {
  "kernelspec": {
   "display_name": "env_methods",
   "language": "python",
   "name": "env_methods"
  },
  "language_info": {
   "codemirror_mode": {
    "name": "ipython",
    "version": 3
   },
   "file_extension": ".py",
   "mimetype": "text/x-python",
   "name": "python",
   "nbconvert_exporter": "python",
   "pygments_lexer": "ipython3",
   "version": "3.6.5"
  }
 },
 "nbformat": 4,
 "nbformat_minor": 5
}
