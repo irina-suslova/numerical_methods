{
 "cells": [
  {
   "cell_type": "code",
   "execution_count": 2,
   "id": "72be2204",
   "metadata": {},
   "outputs": [],
   "source": [
    "from sympy import *\n",
    "import numpy as np\n",
    "import matplotlib.pyplot as plt"
   ]
  },
  {
   "cell_type": "code",
   "execution_count": 3,
   "id": "3b92a253",
   "metadata": {},
   "outputs": [],
   "source": [
    "# variant 27\n",
    "# arctg x - x^3 + 6*x^2 + 1 = 0\n",
    "# (0, 10)"
   ]
  },
  {
   "cell_type": "code",
   "execution_count": 11,
   "id": "e5249f60",
   "metadata": {},
   "outputs": [],
   "source": [
    "# parameters that can be changed\n",
    "\n",
    "epsilon = 10e-3"
   ]
  },
  {
   "cell_type": "code",
   "execution_count": 12,
   "id": "30602d5d",
   "metadata": {},
   "outputs": [
    {
     "data": {
      "text/latex": [
       "$\\displaystyle - x^{3} + 6 x^{2} + \\operatorname{atan}{\\left(x \\right)} + 1$"
      ],
      "text/plain": [
       "-x**3 + 6*x**2 + atan(x) + 1"
      ]
     },
     "execution_count": 12,
     "metadata": {},
     "output_type": "execute_result"
    }
   ],
   "source": [
    "# function declaration\n",
    "\n",
    "a = 0\n",
    "b = 10\n",
    "\n",
    "x = symbols('x')\n",
    "f_x = atan(x) - pow(x, 3) + 6*pow(x, 2) + 1\n",
    "f_x"
   ]
  },
  {
   "cell_type": "code",
   "execution_count": 13,
   "id": "1ea02f1e",
   "metadata": {},
   "outputs": [
    {
     "data": {
      "text/latex": [
       "$\\displaystyle - 3 x^{2} + 12 x + \\frac{1}{x^{2} + 1}$"
      ],
      "text/plain": [
       "-3*x**2 + 12*x + 1/(x**2 + 1)"
      ]
     },
     "execution_count": 13,
     "metadata": {},
     "output_type": "execute_result"
    }
   ],
   "source": [
    "# derivative function declaration (for newton method)\n",
    "\n",
    "diff_f_x = diff(f_x)\n",
    "diff_f_x"
   ]
  },
  {
   "cell_type": "code",
   "execution_count": 14,
   "id": "b424dc12",
   "metadata": {},
   "outputs": [],
   "source": [
    "if f_x.subs(x, a) * f_x.subs(x, b) > 0:\n",
    "    print(\"It cannot be solve with this algorithm\")"
   ]
  },
  {
   "cell_type": "code",
   "execution_count": 15,
   "id": "dec7e1e0",
   "metadata": {},
   "outputs": [],
   "source": [
    "# dichotomy method function\n",
    "\n",
    "def dichotomy_method_func(f_x, a, b, epsilon):\n",
    "    while (b - a >= epsilon):\n",
    "        current_coord = (b + a) / 2\n",
    "        if f_x.subs(x, current_coord) * f_x.subs(x, b) > 0:\n",
    "            b = current_coord\n",
    "        elif f_x.subs(x, a) * f_x.subs(x, current_coord) > 0:\n",
    "            a = current_coord\n",
    "    return (b + a) / 2"
   ]
  },
  {
   "cell_type": "code",
   "execution_count": 16,
   "id": "47cc8861",
   "metadata": {},
   "outputs": [
    {
     "data": {
      "text/plain": [
       "6.0693359375"
      ]
     },
     "execution_count": 16,
     "metadata": {},
     "output_type": "execute_result"
    }
   ],
   "source": [
    "dichotomy_method_func(f_x, a, b, epsilon)"
   ]
  },
  {
   "cell_type": "code",
   "execution_count": 17,
   "id": "082f2e25",
   "metadata": {},
   "outputs": [],
   "source": [
    "# newton method function\n",
    "\n",
    "def newton_method_func(f_x, a, b, epsilon):\n",
    "    coord = b\n",
    "    while (abs(f_x.subs(x, coord)) >= epsilon):\n",
    "        coord -= f_x.subs(x, coord).n() / diff_f_x.subs(x, coord).n()\n",
    "    return coord"
   ]
  },
  {
   "cell_type": "code",
   "execution_count": 18,
   "id": "76ec881c",
   "metadata": {},
   "outputs": [
    {
     "data": {
      "text/latex": [
       "$\\displaystyle 6.06543788012474$"
      ],
      "text/plain": [
       "6.06543788012474"
      ]
     },
     "execution_count": 18,
     "metadata": {},
     "output_type": "execute_result"
    }
   ],
   "source": [
    "newton_method_func(f_x, a, b, epsilon)"
   ]
  },
  {
   "cell_type": "code",
   "execution_count": 23,
   "id": "7a18b63d",
   "metadata": {},
   "outputs": [],
   "source": [
    "def main():\n",
    "    print(\"dichotomy_method:\", dichotomy_method_func(f_x, a, b, epsilon))\n",
    "    print(\"newton_method:\", newton_method_func(f_x, a, b, epsilon))"
   ]
  },
  {
   "cell_type": "code",
   "execution_count": 24,
   "id": "71525956",
   "metadata": {},
   "outputs": [
    {
     "name": "stdout",
     "output_type": "stream",
     "text": [
      "dichotomy_method: 6.0693359375\n",
      "newton_method: 6.06543788012474\n"
     ]
    }
   ],
   "source": [
    "main()"
   ]
  },
  {
   "cell_type": "code",
   "execution_count": null,
   "id": "335c1668",
   "metadata": {},
   "outputs": [],
   "source": []
  }
 ],
 "metadata": {
  "kernelspec": {
   "display_name": "env_methods",
   "language": "python",
   "name": "env_methods"
  },
  "language_info": {
   "codemirror_mode": {
    "name": "ipython",
    "version": 3
   },
   "file_extension": ".py",
   "mimetype": "text/x-python",
   "name": "python",
   "nbconvert_exporter": "python",
   "pygments_lexer": "ipython3",
   "version": "3.6.5"
  }
 },
 "nbformat": 4,
 "nbformat_minor": 5
}
