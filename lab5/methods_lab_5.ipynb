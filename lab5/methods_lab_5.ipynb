{
 "cells": [
  {
   "cell_type": "code",
   "execution_count": 12,
   "id": "aaf1228c",
   "metadata": {},
   "outputs": [],
   "source": [
    "import sympy as sp\n",
    "import numpy as np\n",
    "import matplotlib.pyplot as plt"
   ]
  },
  {
   "cell_type": "code",
   "execution_count": 13,
   "id": "148f3ac3",
   "metadata": {},
   "outputs": [],
   "source": [
    "# variant 27\n",
    "# u\" + 2 th(x) u' + 1 / ch^4 (x) u = -4 thx - 2x / ch^4 (x)\n",
    "# u(0) = 0, u'(0) = -1\n",
    "# u0(x) = sin(th(x)) - 2x"
   ]
  },
  {
   "cell_type": "code",
   "execution_count": 37,
   "id": "5a44cd0a",
   "metadata": {},
   "outputs": [],
   "source": [
    "# parameters that can be changed\n",
    "\n",
    "h = 0.05\n",
    "h_check = 0.1"
   ]
  },
  {
   "cell_type": "code",
   "execution_count": 15,
   "id": "613c4494",
   "metadata": {},
   "outputs": [],
   "source": [
    "# u'(x) = v(x)\n",
    "# v'(x) = -2 th(x) v - 1 / ch^4 (x) u - 4 thx - 2x / ch^4 (x)"
   ]
  },
  {
   "cell_type": "code",
   "execution_count": 101,
   "id": "733ca938",
   "metadata": {},
   "outputs": [
    {
     "data": {
      "text/latex": [
       "$\\displaystyle - \\frac{u}{\\cosh^{4}{\\left(x \\right)}} - 2 v \\tanh{\\left(x \\right)} - \\frac{2 x}{\\cosh^{4}{\\left(x \\right)}} - 4 \\tanh{\\left(x \\right)}$"
      ],
      "text/plain": [
       "-u/cosh(x)**4 - 2*v*tanh(x) - 2*x/cosh(x)**4 - 4*tanh(x)"
      ]
     },
     "execution_count": 101,
     "metadata": {},
     "output_type": "execute_result"
    }
   ],
   "source": [
    "# function declaration\n",
    "\n",
    "a = 0\n",
    "b = 1\n",
    "u_0 = 0\n",
    "v_0 = -1\n",
    "x, v, u = sp.symbols(\"x v u\")\n",
    "fu = v\n",
    "fv = -2 * sp.tanh(x) * v - u / pow(sp.cosh(x), 4) - 4 * sp.tanh(x) - 2 * x / pow(sp.cosh(x), 4)\n",
    "u0 = sp.sin(sp.tanh(x)) - 2 * x\n",
    "fv"
   ]
  },
  {
   "cell_type": "code",
   "execution_count": 94,
   "id": "3640e912",
   "metadata": {},
   "outputs": [],
   "source": [
    "# prepearing coords\n",
    "\n",
    "n = round((b - a) / h) + 1\n",
    "xcoords = [ a + i * h for i in range(n)]\n",
    "u0coords = [u0.subs(x, xcoords[i]) for i in range(n)]\n",
    "#xcoords"
   ]
  },
  {
   "cell_type": "code",
   "execution_count": 120,
   "id": "71fabb58",
   "metadata": {},
   "outputs": [],
   "source": [
    "# euler method\n",
    "# y_i+1 = y_i + h * f(x_i, y_i)\n",
    "\n",
    "def euler_method(xcoords):\n",
    "    ucoords = [u_0]\n",
    "    vcoords = [v_0]\n",
    "    for i in range(len(xcoords) - 1):\n",
    "        prev_u = ucoords[len(ucoords) - 1]\n",
    "        prev_v = vcoords[len(vcoords) - 1]\n",
    "        prev_x = xcoords[i]\n",
    "        current_u = prev_u + h * fu.subs(v, prev_v)\n",
    "        current_v = prev_v + h * fv.subs([(x, prev_x), (v, prev_v), (u, prev_u)])\n",
    "        ucoords.append(current_u)\n",
    "        vcoords.append(current_v)\n",
    "    plt.plot(xcoords, ucoords)\n",
    "    plt.plot(xcoords, u0coords)\n",
    "    plt.legend(['u_counted', 'u0'])\n",
    "    return ucoords"
   ]
  },
  {
   "cell_type": "code",
   "execution_count": 122,
   "id": "7ff32a82",
   "metadata": {},
   "outputs": [
    {
     "data": {
      "image/png": "[encoded data removed]",
      "text/plain": [
       "<Figure size 432x288 with 1 Axes>"
      ]
     },
     "metadata": {
      "needs_background": "light"
     },
     "output_type": "display_data"
    }
   ],
   "source": [
    "eulercoords = euler_method(xcoords)"
   ]
  },
  {
   "cell_type": "code",
   "execution_count": 126,
   "id": "de90607d",
   "metadata": {},
   "outputs": [],
   "source": [
    "# runge kutta method\n",
    "# y_i+1 = y_i + delta_y_i, delta_y_i = h / 6 * (k1 + 2 * k2 + 2 * k3 + k4)\n",
    "# k1 = f(x_i, y_i)\n",
    "# k2 = f(x_i + h/2, y_i + h * k1 / 2)\n",
    "# k3 = f(x_i + h/2, y_i + h * k2 / 2)\n",
    "# k4 = f(x_i + h, y_i + h * k3)\n",
    "\n",
    "def runge_kutta_method(xcoords, h, u0):\n",
    "    ucoords = [u_0]\n",
    "    vcoords = [v_0]\n",
    "    for i in range(len(xcoords) - 1):\n",
    "        prev_x = xcoords[i]\n",
    "        prev_u = ucoords[len(ucoords) - 1]\n",
    "        prev_v = vcoords[len(vcoords) - 1]\n",
    "        \n",
    "        k1_u = fu.subs(v, prev_v)\n",
    "        k1_v = fv.subs([(x, prev_x), (v, prev_v), (u, prev_u)])\n",
    "        \n",
    "        k2_u = fu.subs(v, prev_v + h * k1_v / 2)\n",
    "        k2_v = fv.subs([(x, prev_x + h / 2), (v, prev_v + h * k1_v / 2), (u, prev_u + h * k1_u / 2)])\n",
    "        \n",
    "        k3_u = fu.subs(v, prev_v + h * k2_v / 2)\n",
    "        k3_v = fv.subs([(x, prev_x + h / 2), (v, prev_v + h * k2_v / 2), (u, prev_u + h * k2_u / 2)])\n",
    "        \n",
    "        k4_u = fu.subs(v, prev_v + h * k3_v)\n",
    "        k4_v = fv.subs([(x, prev_x + h), (v, prev_v + h * k3_v), (u, prev_u + h * k3_u)])\n",
    "        \n",
    "        current_u = prev_u + h / 6 * (k1_u + 2 * k2_u + 2 * k3_u + k4_u)\n",
    "        current_v = prev_v + h / 6 * (k1_v + 2 * k2_v + 2 * k3_v + k4_v)\n",
    "        ucoords.append(current_u)\n",
    "        vcoords.append(current_v)\n",
    "    plt.plot(xcoords, ucoords)\n",
    "    plt.plot(xcoords, u0)\n",
    "    return ucoords"
   ]
  },
  {
   "cell_type": "code",
   "execution_count": 127,
   "id": "3c3374c1",
   "metadata": {},
   "outputs": [
    {
     "data": {
      "image/png": "[encoded data removed]",
      "text/plain": [
       "<Figure size 432x288 with 1 Axes>"
      ]
     },
     "metadata": {
      "needs_background": "light"
     },
     "output_type": "display_data"
    }
   ],
   "source": [
    "runge_kuttacoords = runge_kutta_method(xcoords, h, u0coords)"
   ]
  },
  {
   "cell_type": "code",
   "execution_count": 147,
   "id": "207518bc",
   "metadata": {},
   "outputs": [
    {
     "data": {
      "image/png": "[encoded data removed]",
      "text/plain": [
       "<Figure size 432x288 with 1 Axes>"
      ]
     },
     "metadata": {
      "needs_background": "light"
     },
     "output_type": "display_data"
    }
   ],
   "source": [
    "# prepearing data for checking\n",
    "\n",
    "n_check = round((b - a) / h_check) + 1\n",
    "xcoords_check = [ a + i * h_check for i in range(n_check)]\n",
    "u0coords_check = [ u0.subs(x, xcoords_check[i]) for i in range(n_check)]\n",
    "#xcoords_check\n",
    "runge_kuttacoords_check = runge_kutta_method(xcoords_check, h_check, u0coords_check)"
   ]
  },
  {
   "cell_type": "code",
   "execution_count": 150,
   "id": "de4ec9f8",
   "metadata": {},
   "outputs": [
    {
     "data": {
      "text/latex": [
       "$\\displaystyle 4.02530074049228$"
      ],
      "text/plain": [
       "4.02530074049228"
      ]
     },
     "execution_count": 150,
     "metadata": {},
     "output_type": "execute_result"
    }
   ],
   "source": [
    "# checking 4-th\n",
    "# (y_i_h - y_i_h/2) / (2^p - 1) = d(y_i_h/2), p - ?\n",
    "\n",
    "d_h = max([abs(runge_kuttacoords[i] - u0coords[i]) for i in range(len(u0coords))])    # d(y_i_h/2)\n",
    "d_2h = max([abs(runge_kuttacoords[2 * i] - runge_kuttacoords_check[i]) for i in range(len(runge_kuttacoords_check))])  #y_i_h - y_i_h/2\n",
    "p = sp.log(d_2h / d_h + 1) / sp.log(2).n()     # ln -> log2\n",
    "p"
   ]
  },
  {
   "cell_type": "code",
   "execution_count": 152,
   "id": "5e97b50c",
   "metadata": {},
   "outputs": [
    {
     "data": {
      "text/latex": [
       "$\\displaystyle 1.1706877998859 \\cdot 10^{-7}$"
      ],
      "text/plain": [
       "1.17068779988590e-7"
      ]
     },
     "execution_count": 152,
     "metadata": {},
     "output_type": "execute_result"
    }
   ],
   "source": [
    "# runge kutta method for deviation\n",
    "# (y_i_h - y_i_h/2) / (2^p - 1) = d(y_i_h/2), p = 4\n",
    "\n",
    "d_2h = max([abs(runge_kuttacoords[2 * i] - runge_kuttacoords_check[i]) for i in range(len(runge_kuttacoords_check))])  #y_i_h - y_i_h/2\n",
    "deviation = d_2h / (16 - 1) # d(y_i_h/2)\n",
    "deviation"
   ]
  },
  {
   "cell_type": "code",
   "execution_count": 154,
   "id": "cf2ecea5",
   "metadata": {},
   "outputs": [
    {
     "data": {
      "text/latex": [
       "$\\displaystyle 1.1490046236684 \\cdot 10^{-7}$"
      ],
      "text/plain": [
       "1.14900462366840e-7"
      ]
     },
     "execution_count": 154,
     "metadata": {},
     "output_type": "execute_result"
    }
   ],
   "source": [
    "d_h = max([abs(runge_kuttacoords[i] - u0coords[i]) for i in range(len(u0coords))])    # d(y_i_h/2)\n",
    "d_h"
   ]
  },
  {
   "cell_type": "code",
   "execution_count": 159,
   "id": "4ba34e33",
   "metadata": {},
   "outputs": [],
   "source": [
    "# adams method 3\n",
    "# y_i+1 = y_i + delta_y_i, delta_y_i = h / 12 * (23 * k1 - 16 * k2 + 5 * k3)\n",
    "# k1 = f(x_i, y_i)\n",
    "# k2 = f(x_i-1, y_i-1)\n",
    "# k3 = f(x_i-2, y_i-2)\n",
    "# ( x_i+1 = x_i + h )\n",
    "# y_i+1 = y_i + delta_y_i, delta_y_i = h * k1\n",
    "# y_i+1 = y_i + delta_y_i, delta_y_i = h / 2 * (3 * k1 - k2)\n",
    "\n",
    "def adams_method(xcoords):\n",
    "    ucoords = [u_0]\n",
    "    vcoords = [v_0]\n",
    "    for i in range(len(xcoords) - 1):\n",
    "        prev_x = xcoords[i]\n",
    "        prev_u = ucoords[len(ucoords) - 1]\n",
    "        prev_v = vcoords[len(vcoords) - 1]\n",
    "        \n",
    "        k1_u = fu.subs(v, vcoords[len(vcoords) - 1])\n",
    "        k1_v = fv.subs([(x, xcoords[i]), (v, vcoords[len(vcoords) - 1]), (u, ucoords[len(ucoords) - 1])])\n",
    "        \n",
    "        if i == 0:\n",
    "            current_u = prev_u + h * k1_u\n",
    "            current_v = prev_v + h * k1_v\n",
    "            ucoords.append(current_u)\n",
    "            vcoords.append(current_v)\n",
    "            continue\n",
    "        \n",
    "        k2_u = fu.subs(v, vcoords[len(vcoords) - 2])\n",
    "        k2_v = fv.subs([(x, xcoords[i - 1]), (v, vcoords[len(vcoords) - 2]), (u, ucoords[len(ucoords) - 2])])\n",
    "        \n",
    "        if i == 1:\n",
    "            current_u = prev_u + h / 2 * (3 * k1_u - k2_u)\n",
    "            current_v = prev_v + h / 2 * (3 * k1_v - k2_v)\n",
    "            ucoords.append(current_u)\n",
    "            vcoords.append(current_v)\n",
    "            continue\n",
    "            \n",
    "            \n",
    "        k3_u = fu.subs(v, vcoords[len(vcoords) - 3])\n",
    "        k3_v = fv.subs([(x, xcoords[i - 2]), (v, vcoords[len(vcoords) - 3]), (u, ucoords[len(ucoords) - 3])])\n",
    "            \n",
    "        current_u = prev_u + h / 12 * (23 * k1_u - 16 * k2_u + 5 * k3_u)\n",
    "        current_v = prev_v + h / 12 * (23 * k1_v - 16 * k2_v + 5 * k3_v)\n",
    "        ucoords.append(current_u)\n",
    "        vcoords.append(current_v)\n",
    "    plt.plot(xcoords, ucoords)\n",
    "    plt.plot(xcoords, u0coords)\n",
    "    return ucoords"
   ]
  },
  {
   "cell_type": "code",
   "execution_count": 160,
   "id": "0cde3e83",
   "metadata": {},
   "outputs": [
    {
     "data": {
      "image/png": "[encoded data removed]",
      "text/plain": [
       "<Figure size 432x288 with 1 Axes>"
      ]
     },
     "metadata": {
      "needs_background": "light"
     },
     "output_type": "display_data"
    }
   ],
   "source": [
    "adamscoords = adams_method(xcoords)"
   ]
  },
  {
   "cell_type": "code",
   "execution_count": null,
   "id": "7cc20bec",
   "metadata": {},
   "outputs": [],
   "source": []
  }
 ],
 "metadata": {
  "kernelspec": {
   "display_name": "env_methods",
   "language": "python",
   "name": "env_methods"
  },
  "language_info": {
   "codemirror_mode": {
    "name": "ipython",
    "version": 3
   },
   "file_extension": ".py",
   "mimetype": "text/x-python",
   "name": "python",
   "nbconvert_exporter": "python",
   "pygments_lexer": "ipython3",
   "version": "3.6.5"
  }
 },
 "nbformat": 4,
 "nbformat_minor": 5
}
