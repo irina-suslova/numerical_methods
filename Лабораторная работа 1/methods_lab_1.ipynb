{
 "cells": [
  {
   "cell_type": "code",
   "execution_count": 1,
   "id": "67c7f31f",
   "metadata": {},
   "outputs": [],
   "source": [
    "from sympy import *\n",
    "import numpy as np\n",
    "import matplotlib.pyplot as plt"
   ]
  },
  {
   "cell_type": "code",
   "execution_count": 2,
   "id": "4a3def80",
   "metadata": {},
   "outputs": [],
   "source": [
    "# variant 27\n",
    "# f(x) = cosh( x ) / ( x**5 + x**4 + x**3 + x**2 + x + 1 )\n",
    "# [0, 10]"
   ]
  },
  {
   "cell_type": "code",
   "execution_count": 27,
   "id": "2a034309",
   "metadata": {},
   "outputs": [],
   "source": [
    "# parameters that can be changed\n",
    "\n",
    "n = 5             # number of points for interpolation\n",
    "is_even = False    # type of fragmentation"
   ]
  },
  {
   "cell_type": "code",
   "execution_count": 28,
   "id": "70edb89e",
   "metadata": {},
   "outputs": [
    {
     "data": {
      "text/latex": [
       "$\\displaystyle \\frac{\\cosh{\\left(x \\right)}}{x^{5} + x^{4} + x^{3} + x^{2} + x + 1}$"
      ],
      "text/plain": [
       "cosh(x)/(x**5 + x**4 + x**3 + x**2 + x + 1)"
      ]
     },
     "execution_count": 28,
     "metadata": {},
     "output_type": "execute_result"
    }
   ],
   "source": [
    "# function declaration\n",
    "\n",
    "a = 0\n",
    "b = 10\n",
    "h = 0\n",
    "\n",
    "x = symbols('x')\n",
    "f_x = cosh(x) / ( x**5 + x**4 + x**3 + x**2 + x + 1 )\n",
    "f_x"
   ]
  },
  {
   "cell_type": "code",
   "execution_count": 29,
   "id": "69cd54da",
   "metadata": {},
   "outputs": [
    {
     "data": {
      "text/plain": [
       "[9.75528258147577,\n",
       " 7.93892626146237,\n",
       " 5.00000000000000,\n",
       " 2.06107373853763,\n",
       " 0.244717418524232]"
      ]
     },
     "execution_count": 29,
     "metadata": {},
     "output_type": "execute_result"
    }
   ],
   "source": [
    "# defenition of fragmentation\n",
    "\n",
    "coords = []\n",
    "if is_even:\n",
    "    h = (b - a) / (n - 1)\n",
    "    print(\"h: \", h)\n",
    "    for i in range(n):\n",
    "        coords.append(a + i * h)\n",
    "else:\n",
    "    for i in range(n):\n",
    "        coords.append(((b + a) / 2 + (b - a) / 2 * cos(pi * (2 * i + 1) / 2 / n)).n())\n",
    "coords"
   ]
  },
  {
   "cell_type": "code",
   "execution_count": 30,
   "id": "cb96238a",
   "metadata": {},
   "outputs": [
    {
     "data": {
      "text/plain": [
       "[0.0875925051156058,\n",
       " 0.0388620159191396,\n",
       " 0.0189989627559621,\n",
       " 0.0559697341909770,\n",
       " 0.778178465605203]"
      ]
     },
     "execution_count": 30,
     "metadata": {},
     "output_type": "execute_result"
    }
   ],
   "source": [
    "# values of function in defined points\n",
    "\n",
    "values = []\n",
    "for i in range(len(coords)):\n",
    "    values.append(f_x.subs(x, coords[i]).n())\n",
    "values"
   ]
  },
  {
   "cell_type": "code",
   "execution_count": 31,
   "id": "76b2566e",
   "metadata": {},
   "outputs": [
    {
     "data": {
      "text/latex": [
       "$\\displaystyle \\left(0.0389756543935659 - 0.00399533832752078 x\\right) \\left(2.70130161670408 - 0.340260323340816 x\\right) \\left(0.210292444847653 x - 0.0514622242382672\\right) \\left(0.340260323340816 x - 0.70130161670408\\right) + \\left(0.0709625361344584 - 0.0072742676126275 x\\right) \\left(1.35065080835204 - 0.170130161670408 x\\right) \\left(1.70130161670408 - 0.340260323340816 x\\right) \\left(0.550552768188469 x - 0.134729852192452\\right) + \\left(0.20872003075598 - 0.0213955904416667 x\\right) \\left(0.129967878493163 x - 0.0318054037159178\\right) \\left(0.170130161670408 x - 0.35065080835204\\right) \\left(0.340260323340816 x - 1.70130161670408\\right) + \\left(0.798201862952385 - 0.0818225260299568 x\\right) \\left(1.03180540371592 - 0.129967878493163 x\\right) \\left(1.05146222423827 - 0.210292444847653 x\\right) \\left(1.13472985219245 - 0.550552768188469 x\\right) + \\left(0.0482242961639594 x - 0.382849131256596\\right) \\left(0.105146222423827 x - 0.0257311121191336\\right) \\left(0.129967878493163 x - 0.267873381215708\\right) \\left(0.210292444847653 x - 1.05146222423827\\right)$"
      ],
      "text/plain": [
       "(0.0389756543935659 - 0.00399533832752078*x)*(2.70130161670408 - 0.340260323340816*x)*(0.210292444847653*x - 0.0514622242382672)*(0.340260323340816*x - 0.70130161670408) + (0.0709625361344584 - 0.0072742676126275*x)*(1.35065080835204 - 0.170130161670408*x)*(1.70130161670408 - 0.340260323340816*x)*(0.550552768188469*x - 0.134729852192452) + (0.20872003075598 - 0.0213955904416667*x)*(0.129967878493163*x - 0.0318054037159178)*(0.170130161670408*x - 0.35065080835204)*(0.340260323340816*x - 1.70130161670408) + (0.798201862952385 - 0.0818225260299568*x)*(1.03180540371592 - 0.129967878493163*x)*(1.05146222423827 - 0.210292444847653*x)*(1.13472985219245 - 0.550552768188469*x) + (0.0482242961639594*x - 0.382849131256596)*(0.105146222423827*x - 0.0257311121191336)*(0.129967878493163*x - 0.267873381215708)*(0.210292444847653*x - 1.05146222423827)"
      ]
     },
     "execution_count": 31,
     "metadata": {},
     "output_type": "execute_result"
    }
   ],
   "source": [
    "# making interpolation\n",
    "\n",
    "F_x = 0\n",
    "for i in range(len(values)):\n",
    "    curr = values[i]\n",
    "    for k in range(len(values)):\n",
    "        if k != i:\n",
    "            curr *= (x - coords[k]) / (coords[i] - coords[k])\n",
    "    F_x += curr\n",
    "F_x"
   ]
  },
  {
   "cell_type": "code",
   "execution_count": 32,
   "id": "8d2ab7c0",
   "metadata": {},
   "outputs": [
    {
     "data": {
      "image/png": "[encoded data removed]",
      "text/plain": [
       "<Figure size 432x288 with 1 Axes>"
      ]
     },
     "metadata": {
      "needs_background": "light"
     },
     "output_type": "display_data"
    },
    {
     "data": {
      "text/plain": [
       "<sympy.plotting.plot.Plot at 0x12f700d0>"
      ]
     },
     "execution_count": 32,
     "metadata": {},
     "output_type": "execute_result"
    }
   ],
   "source": [
    "# plotting\n",
    "\n",
    "# blue - F_x\n",
    "# orange - f_x\n",
    "\n",
    "plot(F_x, f_x, (x, 0, 10))"
   ]
  },
  {
   "cell_type": "code",
   "execution_count": 33,
   "id": "5ecc7131",
   "metadata": {},
   "outputs": [
    {
     "data": {
      "text/latex": [
       "$\\displaystyle 0.0095308799403354$"
      ],
      "text/plain": [
       "0.00953087994033540"
      ]
     },
     "execution_count": 33,
     "metadata": {},
     "output_type": "execute_result"
    }
   ],
   "source": [
    "# checking\n",
    "# coords - midpoints of segments\n",
    "\n",
    "check_coords = []\n",
    "for i in range(len(coords) - 1):\n",
    "    check_coords.append((coords[i + 1] + coords[i]) / 2)\n",
    "#check_coords\n",
    "\n",
    "check_values = []\n",
    "for i in range(len(check_coords)):\n",
    "    check_values.append(f_x.subs(x, check_coords[i]).n())\n",
    "#check_values\n",
    "\n",
    "current_values = []     # values of interpolated function\n",
    "for i in range(len(check_coords)):\n",
    "    current_values.append(F_x.subs(x, check_coords[i]).n())\n",
    "#current_values\n",
    "\n",
    "squares = []\n",
    "for i in range(len(check_coords)):\n",
    "    squares.append((check_values[i] - current_values[i]) * (check_values[i] - current_values[i]))\n",
    "max(squares)"
   ]
  },
  {
   "cell_type": "code",
   "execution_count": null,
   "id": "3eab9a1d",
   "metadata": {},
   "outputs": [],
   "source": []
  },
  {
   "cell_type": "code",
   "execution_count": 19,
   "id": "3e11c83e",
   "metadata": {},
   "outputs": [],
   "source": [
    "# the same algorithm in one function\n",
    "\n",
    "def count_diff(current_n, current_is_even):\n",
    "    x = symbols('x')\n",
    "    f_x = cosh(x) / ( x**5 + x**4 + x**3 + x**2 + x + 1 )\n",
    "    a = 0\n",
    "    b = 10\n",
    "    h = 0\n",
    "    coords = []\n",
    "    if current_is_even:\n",
    "        h = (b - a) / (current_n - 1)\n",
    "        for i in range(current_n):\n",
    "            coords.append(a + i * h)\n",
    "    else:\n",
    "        for i in range(current_n):\n",
    "            coords.append(((b + a) / 2 + (b - a) / 2 * cos(pi * (2 * i + 1) / 2 / current_n)).n())\n",
    "    values = []\n",
    "    for i in range(len(coords)):\n",
    "        values.append(f_x.subs(x, coords[i]).n())\n",
    "    F_x = 0\n",
    "    for i in range(len(values)):\n",
    "        curr = values[i]\n",
    "        for k in range(len(values)):\n",
    "            if k != i:\n",
    "                curr *= (x - coords[k]) / (coords[i] - coords[k])\n",
    "        F_x += curr\n",
    "    check_coords = []\n",
    "    for i in range(len(coords) - 1):\n",
    "        check_coords.append((coords[i + 1] + coords[i]) / 2)\n",
    "    check_values = []\n",
    "    for i in range(len(check_coords)):\n",
    "        check_values.append(f_x.subs(x, check_coords[i]).n())\n",
    "    current_values = []\n",
    "    for i in range(len(check_coords)):\n",
    "        current_values.append(F_x.subs(x, check_coords[i]).n())\n",
    "    abses = []\n",
    "    for i in range(len(check_coords)):\n",
    "        abses.append(np.absolute(check_values[i] - current_values[i]))\n",
    "    return [max(abses), (x, a, b), F_x, f_x]"
   ]
  },
  {
   "cell_type": "code",
   "execution_count": 18,
   "id": "d1f46e42",
   "metadata": {},
   "outputs": [
    {
     "name": "stdout",
     "output_type": "stream",
     "text": [
      "3.53400772534762e-8\n"
     ]
    },
    {
     "data": {
      "image/png": "[encoded data removed]",
      "text/plain": [
       "<Figure size 432x288 with 1 Axes>"
      ]
     },
     "metadata": {
      "needs_background": "light"
     },
     "output_type": "display_data"
    },
    {
     "data": {
      "text/plain": [
       "<sympy.plotting.plot.Plot at 0x11b57110>"
      ]
     },
     "execution_count": 18,
     "metadata": {},
     "output_type": "execute_result"
    }
   ],
   "source": [
    "result = count_diff(50, False)\n",
    "print(result[0])\n",
    "plot(result[2], result[3], result[1])"
   ]
  },
  {
   "cell_type": "code",
   "execution_count": null,
   "id": "d48e2e5e",
   "metadata": {},
   "outputs": [],
   "source": []
  }
 ],
 "metadata": {
  "kernelspec": {
   "display_name": "env_methods",
   "language": "python",
   "name": "env_methods"
  },
  "language_info": {
   "codemirror_mode": {
    "name": "ipython",
    "version": 3
   },
   "file_extension": ".py",
   "mimetype": "text/x-python",
   "name": "python",
   "nbconvert_exporter": "python",
   "pygments_lexer": "ipython3",
   "version": "3.6.5"
  }
 },
 "nbformat": 4,
 "nbformat_minor": 5
}
