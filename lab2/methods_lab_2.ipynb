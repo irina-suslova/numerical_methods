{
 "cells": [
  {
   "cell_type": "code",
   "execution_count": 270,
   "id": "b001e651",
   "metadata": {},
   "outputs": [],
   "source": [
    "from sympy import *\n",
    "import numpy as np\n",
    "import matplotlib.pyplot as plt"
   ]
  },
  {
   "cell_type": "code",
   "execution_count": 271,
   "id": "6dc1a3bb",
   "metadata": {},
   "outputs": [],
   "source": [
    "# variant 27\n",
    "# f(x) = sin^2( cos (x) )\n",
    "# [-1.5, 1.5]"
   ]
  },
  {
   "cell_type": "code",
   "execution_count": 272,
   "id": "0186ccea",
   "metadata": {},
   "outputs": [],
   "source": [
    "# parameters that can be changed\n",
    "\n",
    "n = 14            # number of points"
   ]
  },
  {
   "cell_type": "code",
   "execution_count": 308,
   "id": "76b28f9f",
   "metadata": {},
   "outputs": [
    {
     "data": {
      "text/latex": [
       "$\\displaystyle \\sin^{2}{\\left(\\cos{\\left(x \\right)} \\right)}$"
      ],
      "text/plain": [
       "sin(cos(x))**2"
      ]
     },
     "execution_count": 308,
     "metadata": {},
     "output_type": "execute_result"
    }
   ],
   "source": [
    "# function declaration\n",
    "\n",
    "a = -1.5\n",
    "b = 1.5\n",
    "h = (b - a) / n\n",
    "\n",
    "x = symbols('x')\n",
    "f_x = (sin(cos(x)))**2\n",
    "f_x"
   ]
  },
  {
   "cell_type": "code",
   "execution_count": 309,
   "id": "81386dbc",
   "metadata": {},
   "outputs": [
    {
     "data": {
      "text/latex": [
       "$\\displaystyle - 2 \\sin{\\left(x \\right)} \\sin{\\left(\\cos{\\left(x \\right)} \\right)} \\cos{\\left(\\cos{\\left(x \\right)} \\right)}$"
      ],
      "text/plain": [
       "-2*sin(x)*sin(cos(x))*cos(cos(x))"
      ]
     },
     "execution_count": 309,
     "metadata": {},
     "output_type": "execute_result"
    }
   ],
   "source": [
    "# 1st derivative\n",
    "\n",
    "derivative_f_x = diff(f_x, x)\n",
    "derivative_f_x"
   ]
  },
  {
   "cell_type": "code",
   "execution_count": 310,
   "id": "4de06fd2",
   "metadata": {},
   "outputs": [
    {
     "name": "stdout",
     "output_type": "stream",
     "text": [
      "h:  0.23076923076923078\n"
     ]
    }
   ],
   "source": [
    "# defenition of fragmentation\n",
    "\n",
    "coords = []\n",
    "h = (b - a) / n\n",
    "print(\"h: \", h)\n",
    "for i in range(n):\n",
    "    coords.append(a + i * h)\n",
    "#coords"
   ]
  },
  {
   "cell_type": "code",
   "execution_count": 311,
   "id": "bbc67c08",
   "metadata": {},
   "outputs": [],
   "source": [
    "# counting right derivative \n",
    "\n",
    "right_derivative = []\n",
    "right_derivative_coords = []\n",
    "\n",
    "\n",
    "for i in range(n - 1):\n",
    "    right_derivative_coords.append(coords[i])\n",
    "    curr_right_derivate = (f_x.subs('x', coords[i + 1]) - f_x.subs('x', coords[i])) / h\n",
    "    right_derivative.append(curr_right_derivate)\n",
    "    \n",
    "# adding right side\n",
    "right_derivative_coords.append(b)\n",
    "right_derivative.append(f_x.subs('x', coords[len(coords) - 1]) - f_x.subs('x', coords[len(coords) - 2]) / h)\n",
    "\n",
    "#right_derivative"
   ]
  },
  {
   "cell_type": "code",
   "execution_count": 312,
   "id": "8c1d2c85",
   "metadata": {},
   "outputs": [
    {
     "data": {
      "text/latex": [
       "$\\displaystyle 0.225523783290382$"
      ],
      "text/plain": [
       "0.225523783290382"
      ]
     },
     "execution_count": 312,
     "metadata": {},
     "output_type": "execute_result"
    }
   ],
   "source": [
    "# checking right derivative\n",
    "\n",
    "check_coords = right_derivative_coords\n",
    "\n",
    "check_values = []\n",
    "for i in range(len(check_coords)):\n",
    "    check_values.append(derivative_f_x.subs(x, check_coords[i]).n())\n",
    "#check_values\n",
    "\n",
    "current_values = right_derivative\n",
    "\n",
    "deviation = []\n",
    "for i in range(len(check_coords)):\n",
    "    deviation.append(abs(check_values[i] - current_values[i]))\n",
    "max(deviation)"
   ]
  },
  {
   "cell_type": "code",
   "execution_count": 313,
   "id": "dc9ca1aa",
   "metadata": {},
   "outputs": [],
   "source": [
    "# counting central derivative \n",
    "\n",
    "central_derivative = []\n",
    "central_derivative_coords = []\n",
    "\n",
    "# adding left side\n",
    "central_derivative_coords.append(a)\n",
    "central_derivative.append(-3/2 * f_x.subs('x', coords[0]) + 2 * f_x.subs('x', coords[1]) - 1/2 * f_x.subs('x', coords[2]) / h)\n",
    "\n",
    "for i in range(1, n - 1):\n",
    "    central_derivative_coords.append(coords[i])\n",
    "    curr_central_derivate = (f_x.subs('x', coords[i + 1]) - f_x.subs('x', coords[i - 1])) / (2 * h)\n",
    "    central_derivative.append(curr_central_derivate)\n",
    "\n",
    "# adding right side\n",
    "central_derivative_coords.append(b)\n",
    "central_derivative.append(-3/2 * f_x.subs('x', coords[n - 1]) + 2 * f_x.subs('x', coords[n - 2]) - 1/2 * f_x.subs('x', coords[n - 3]) / h)\n",
    "\n",
    "#central_derivative"
   ]
  },
  {
   "cell_type": "code",
   "execution_count": 314,
   "id": "b39917db",
   "metadata": {},
   "outputs": [
    {
     "data": {
      "text/latex": [
       "$\\displaystyle 0.488664649616796$"
      ],
      "text/plain": [
       "0.488664649616796"
      ]
     },
     "execution_count": 314,
     "metadata": {},
     "output_type": "execute_result"
    }
   ],
   "source": [
    "# checking central derivative\n",
    "\n",
    "check_coords = central_derivative_coords\n",
    "\n",
    "check_values = []\n",
    "for i in range(len(check_coords)):\n",
    "    check_values.append(derivative_f_x.subs(x, check_coords[i]).n())\n",
    "#check_values\n",
    "\n",
    "current_values = central_derivative\n",
    "\n",
    "deviation = []\n",
    "for i in range(len(check_coords)):\n",
    "    deviation.append(abs(check_values[i] - current_values[i]))\n",
    "max(deviation)"
   ]
  },
  {
   "cell_type": "code",
   "execution_count": 315,
   "id": "2491d025",
   "metadata": {},
   "outputs": [],
   "source": [
    "# make interpolation (from previous task) for making plots of derivatives\n",
    "\n",
    "def interolateFunc(f_x, a, b, coords, values):\n",
    "    x = symbols('x')\n",
    "    F_x = 0\n",
    "    for i in range(len(coords)):\n",
    "        curr = values[i]\n",
    "        for k in range(len(coords)):\n",
    "            if k != i:\n",
    "                curr *= (x - coords[k]) / (coords[i] - coords[k])\n",
    "        F_x += curr\n",
    "    check_coords = []\n",
    "    for i in range(len(coords) - 1):\n",
    "        check_coords.append((coords[i + 1] + coords[i]) / 2)\n",
    "    check_values = []\n",
    "    for i in range(len(check_coords)):\n",
    "        check_values.append(f_x.subs(x, check_coords[i]).n())\n",
    "    current_values = []\n",
    "    for i in range(len(check_coords)):\n",
    "        current_values.append(F_x.subs(x, check_coords[i]).n())\n",
    "    abses = []\n",
    "    for i in range(len(check_coords)):\n",
    "        abses.append(np.absolute(check_values[i] - current_values[i]))\n",
    "    return [max(abses), (x, a, b), F_x, f_x]"
   ]
  },
  {
   "cell_type": "code",
   "execution_count": 316,
   "id": "cf6754a7",
   "metadata": {},
   "outputs": [
    {
     "name": "stdout",
     "output_type": "stream",
     "text": [
      "0.0993177731502112\n"
     ]
    },
    {
     "data": {
      "image/png": "[encoded data removed]",
      "text/plain": [
       "<Figure size 432x288 with 1 Axes>"
      ]
     },
     "metadata": {
      "needs_background": "light"
     },
     "output_type": "display_data"
    },
    {
     "data": {
      "text/plain": [
       "<sympy.plotting.plot.Plot at 0x1bafd810>"
      ]
     },
     "execution_count": 316,
     "metadata": {},
     "output_type": "execute_result"
    }
   ],
   "source": [
    "# plotting central derivatives (blue - counted, orange - original)\n",
    "\n",
    "result = interolateFunc(derivative_f_x, a, b, central_derivative_coords, central_derivative)\n",
    "print(result[0])\n",
    "plot(result[2], result[3], result[1])"
   ]
  },
  {
   "cell_type": "code",
   "execution_count": 318,
   "id": "b8ee3832",
   "metadata": {},
   "outputs": [
    {
     "name": "stdout",
     "output_type": "stream",
     "text": [
      "0.167553631304951\n"
     ]
    },
    {
     "data": {
      "image/png": "[encoded data removed]",
      "text/plain": [
       "<Figure size 432x288 with 1 Axes>"
      ]
     },
     "metadata": {
      "needs_background": "light"
     },
     "output_type": "display_data"
    },
    {
     "data": {
      "text/plain": [
       "<sympy.plotting.plot.Plot at 0x1bbebed0>"
      ]
     },
     "execution_count": 318,
     "metadata": {},
     "output_type": "execute_result"
    }
   ],
   "source": [
    "# plotting right derivatives (blue - counted, orange - original)\n",
    "\n",
    "result = interolateFunc(derivative_f_x, a, b, right_derivative_coords, right_derivative)\n",
    "print(result[0])\n",
    "plot(result[2], result[3], result[1])"
   ]
  },
  {
   "cell_type": "code",
   "execution_count": 319,
   "id": "24ea232a",
   "metadata": {},
   "outputs": [
    {
     "data": {
      "text/latex": [
       "$\\displaystyle - 2 \\sin^{2}{\\left(x \\right)} \\sin^{2}{\\left(\\cos{\\left(x \\right)} \\right)} + 2 \\sin^{2}{\\left(x \\right)} \\cos^{2}{\\left(\\cos{\\left(x \\right)} \\right)} - 2 \\sin{\\left(\\cos{\\left(x \\right)} \\right)} \\cos{\\left(x \\right)} \\cos{\\left(\\cos{\\left(x \\right)} \\right)}$"
      ],
      "text/plain": [
       "-2*sin(x)**2*sin(cos(x))**2 + 2*sin(x)**2*cos(cos(x))**2 - 2*sin(cos(x))*cos(x)*cos(cos(x))"
      ]
     },
     "execution_count": 319,
     "metadata": {},
     "output_type": "execute_result"
    }
   ],
   "source": [
    "# 2nd derivative\n",
    "\n",
    "second_derivative_f_x = diff(derivative_f_x)\n",
    "second_derivative_f_x"
   ]
  },
  {
   "cell_type": "code",
   "execution_count": 320,
   "id": "ddcf293e",
   "metadata": {},
   "outputs": [],
   "source": [
    "# counting 2nd derivative with accuracy 2\n",
    "\n",
    "central_second_derivative_2 = []\n",
    "central_second_derivative_2_coords = []\n",
    "for i in range(n):\n",
    "    central_second_derivative_2_coords.append(coords[i])\n",
    "    curr_central_second_derivative_2 = (f_x.subs('x', (coords[i] - h)) - 2 * f_x.subs('x', coords[i]) + f_x.subs('x', (coords[i] + h))) / (h * h)\n",
    "    central_second_derivative_2.append(curr_central_second_derivative_2)\n",
    "#central_second_derivative_2"
   ]
  },
  {
   "cell_type": "code",
   "execution_count": 321,
   "id": "efe80fcd",
   "metadata": {},
   "outputs": [
    {
     "name": "stdout",
     "output_type": "stream",
     "text": [
      "0.0515345310016226\n"
     ]
    },
    {
     "data": {
      "image/png": "[encoded data removed]",
      "text/plain": [
       "<Figure size 432x288 with 1 Axes>"
      ]
     },
     "metadata": {
      "needs_background": "light"
     },
     "output_type": "display_data"
    },
    {
     "data": {
      "text/plain": [
       "<sympy.plotting.plot.Plot at 0x1b616670>"
      ]
     },
     "execution_count": 321,
     "metadata": {},
     "output_type": "execute_result"
    }
   ],
   "source": [
    "# plotting 2nd derivative (2)\n",
    "\n",
    "result = interolateFunc(second_derivative_f_x, a, b, central_second_derivative_2_coords, central_second_derivative_2)\n",
    "print(result[0])\n",
    "plot(result[2], result[3], result[1])"
   ]
  },
  {
   "cell_type": "code",
   "execution_count": 322,
   "id": "4a03d004",
   "metadata": {},
   "outputs": [],
   "source": [
    "# counting 2nd derivative with accuracy 4\n",
    "\n",
    "central_second_derivative_4 = []\n",
    "central_second_derivative_4_coords = []\n",
    "for i in range(n):\n",
    "    central_second_derivative_4_coords.append(coords[i])\n",
    "    curr_central_second_derivative_4 = (-1/12 * f_x.subs('x', coords[i] + 2 * h) + 4/3 * f_x.subs('x', coords[i] + h) - 5/2 * f_x.subs('x', coords[i]) + 4/3 * f_x.subs('x', coords[i] - h) - 1/12 * f_x.subs('x', coords[i] - 2 * h)) / (h * h)\n",
    "    central_second_derivative_4.append(curr_central_second_derivative_4)\n",
    "#central_second_derivative_2"
   ]
  },
  {
   "cell_type": "code",
   "execution_count": 305,
   "id": "7b08aa3f",
   "metadata": {},
   "outputs": [
    {
     "name": "stdout",
     "output_type": "stream",
     "text": [
      "0.00436063563702256\n"
     ]
    },
    {
     "data": {
      "image/png": "[encoded data removed]",
      "text/plain": [
       "<Figure size 432x288 with 1 Axes>"
      ]
     },
     "metadata": {
      "needs_background": "light"
     },
     "output_type": "display_data"
    },
    {
     "data": {
      "text/plain": [
       "<sympy.plotting.plot.Plot at 0x1b4308d0>"
      ]
     },
     "execution_count": 305,
     "metadata": {},
     "output_type": "execute_result"
    }
   ],
   "source": [
    "# plotting 2nd derivative (4)\n",
    "\n",
    "result1 = interolateFunc(second_derivative_f_x, a, b, central_second_derivative_4_coords, central_second_derivative_4)\n",
    "print(result1[0])\n",
    "plot(result1[2], result1[3], result1[1])"
   ]
  },
  {
   "cell_type": "code",
   "execution_count": 340,
   "id": "19deccb9",
   "metadata": {},
   "outputs": [
    {
     "ename": "KeyboardInterrupt",
     "evalue": "",
     "output_type": "error",
     "traceback": [
      "\u001b[1;31m---------------------------------------------------------------------------\u001b[0m",
      "\u001b[1;31mKeyError\u001b[0m                                  Traceback (most recent call last)",
      "\u001b[1;32m~\\env-methods\\lib\\site-packages\\sympy\\core\\assumptions.py\u001b[0m in \u001b[0;36mgetit\u001b[1;34m(self)\u001b[0m\n\u001b[0;32m    461\u001b[0m         \u001b[1;32mtry\u001b[0m\u001b[1;33m:\u001b[0m\u001b[1;33m\u001b[0m\u001b[0m\n\u001b[1;32m--> 462\u001b[1;33m             \u001b[1;32mreturn\u001b[0m \u001b[0mself\u001b[0m\u001b[1;33m.\u001b[0m\u001b[0m_assumptions\u001b[0m\u001b[1;33m[\u001b[0m\u001b[0mfact\u001b[0m\u001b[1;33m]\u001b[0m\u001b[1;33m\u001b[0m\u001b[0m\n\u001b[0m\u001b[0;32m    463\u001b[0m         \u001b[1;32mexcept\u001b[0m \u001b[0mKeyError\u001b[0m\u001b[1;33m:\u001b[0m\u001b[1;33m\u001b[0m\u001b[0m\n",
      "\u001b[1;31mKeyError\u001b[0m: 'zero'",
      "\nDuring handling of the above exception, another exception occurred:\n",
      "\u001b[1;31mKeyboardInterrupt\u001b[0m                         Traceback (most recent call last)",
      "\u001b[1;32m<ipython-input-340-675002c3a1e6>\u001b[0m in \u001b[0;36m<module>\u001b[1;34m\u001b[0m\n\u001b[0;32m     32\u001b[0m     \u001b[0mcheck_values\u001b[0m \u001b[1;33m=\u001b[0m \u001b[1;33m[\u001b[0m\u001b[1;33m]\u001b[0m\u001b[1;33m\u001b[0m\u001b[0m\n\u001b[0;32m     33\u001b[0m     \u001b[1;32mfor\u001b[0m \u001b[0mi\u001b[0m \u001b[1;32min\u001b[0m \u001b[0mrange\u001b[0m\u001b[1;33m(\u001b[0m\u001b[0mlen\u001b[0m\u001b[1;33m(\u001b[0m\u001b[0mcheck_coords\u001b[0m\u001b[1;33m)\u001b[0m\u001b[1;33m)\u001b[0m\u001b[1;33m:\u001b[0m\u001b[1;33m\u001b[0m\u001b[0m\n\u001b[1;32m---> 34\u001b[1;33m         \u001b[0mcheck_values\u001b[0m\u001b[1;33m.\u001b[0m\u001b[0mappend\u001b[0m\u001b[1;33m(\u001b[0m\u001b[0mderivative_f_x\u001b[0m\u001b[1;33m.\u001b[0m\u001b[0msubs\u001b[0m\u001b[1;33m(\u001b[0m\u001b[0mx\u001b[0m\u001b[1;33m,\u001b[0m \u001b[0mcheck_coords\u001b[0m\u001b[1;33m[\u001b[0m\u001b[0mi\u001b[0m\u001b[1;33m]\u001b[0m\u001b[1;33m)\u001b[0m\u001b[1;33m.\u001b[0m\u001b[0mn\u001b[0m\u001b[1;33m(\u001b[0m\u001b[1;33m)\u001b[0m\u001b[1;33m)\u001b[0m\u001b[1;33m\u001b[0m\u001b[0m\n\u001b[0m\u001b[0;32m     35\u001b[0m     \u001b[0mcurrent_values\u001b[0m \u001b[1;33m=\u001b[0m \u001b[0mright_derivative\u001b[0m\u001b[1;33m\u001b[0m\u001b[0m\n\u001b[0;32m     36\u001b[0m     \u001b[0mdeviation\u001b[0m \u001b[1;33m=\u001b[0m \u001b[1;33m[\u001b[0m\u001b[1;33m]\u001b[0m\u001b[1;33m\u001b[0m\u001b[0m\n",
      "\u001b[1;32m~\\env-methods\\lib\\site-packages\\sympy\\core\\basic.py\u001b[0m in \u001b[0;36msubs\u001b[1;34m(self, *args, **kwargs)\u001b[0m\n\u001b[0;32m    951\u001b[0m             \u001b[0mrv\u001b[0m \u001b[1;33m=\u001b[0m \u001b[0mself\u001b[0m\u001b[1;33m\u001b[0m\u001b[0m\n\u001b[0;32m    952\u001b[0m             \u001b[1;32mfor\u001b[0m \u001b[0mold\u001b[0m\u001b[1;33m,\u001b[0m \u001b[0mnew\u001b[0m \u001b[1;32min\u001b[0m \u001b[0msequence\u001b[0m\u001b[1;33m:\u001b[0m\u001b[1;33m\u001b[0m\u001b[0m\n\u001b[1;32m--> 953\u001b[1;33m                 \u001b[0mrv\u001b[0m \u001b[1;33m=\u001b[0m \u001b[0mrv\u001b[0m\u001b[1;33m.\u001b[0m\u001b[0m_subs\u001b[0m\u001b[1;33m(\u001b[0m\u001b[0mold\u001b[0m\u001b[1;33m,\u001b[0m \u001b[0mnew\u001b[0m\u001b[1;33m,\u001b[0m \u001b[1;33m**\u001b[0m\u001b[0mkwargs\u001b[0m\u001b[1;33m)\u001b[0m\u001b[1;33m\u001b[0m\u001b[0m\n\u001b[0m\u001b[0;32m    954\u001b[0m                 \u001b[1;32mif\u001b[0m \u001b[1;32mnot\u001b[0m \u001b[0misinstance\u001b[0m\u001b[1;33m(\u001b[0m\u001b[0mrv\u001b[0m\u001b[1;33m,\u001b[0m \u001b[0mBasic\u001b[0m\u001b[1;33m)\u001b[0m\u001b[1;33m:\u001b[0m\u001b[1;33m\u001b[0m\u001b[0m\n\u001b[0;32m    955\u001b[0m                     \u001b[1;32mbreak\u001b[0m\u001b[1;33m\u001b[0m\u001b[0m\n",
      "\u001b[1;32m~\\env-methods\\lib\\site-packages\\sympy\\core\\cache.py\u001b[0m in \u001b[0;36mwrapper\u001b[1;34m(*args, **kwargs)\u001b[0m\n\u001b[0;32m     70\u001b[0m         \u001b[1;32mdef\u001b[0m \u001b[0mwrapper\u001b[0m\u001b[1;33m(\u001b[0m\u001b[1;33m*\u001b[0m\u001b[0margs\u001b[0m\u001b[1;33m,\u001b[0m \u001b[1;33m**\u001b[0m\u001b[0mkwargs\u001b[0m\u001b[1;33m)\u001b[0m\u001b[1;33m:\u001b[0m\u001b[1;33m\u001b[0m\u001b[0m\n\u001b[0;32m     71\u001b[0m             \u001b[1;32mtry\u001b[0m\u001b[1;33m:\u001b[0m\u001b[1;33m\u001b[0m\u001b[0m\n\u001b[1;32m---> 72\u001b[1;33m                 \u001b[0mretval\u001b[0m \u001b[1;33m=\u001b[0m \u001b[0mcfunc\u001b[0m\u001b[1;33m(\u001b[0m\u001b[1;33m*\u001b[0m\u001b[0margs\u001b[0m\u001b[1;33m,\u001b[0m \u001b[1;33m**\u001b[0m\u001b[0mkwargs\u001b[0m\u001b[1;33m)\u001b[0m\u001b[1;33m\u001b[0m\u001b[0m\n\u001b[0m\u001b[0;32m     73\u001b[0m             \u001b[1;32mexcept\u001b[0m \u001b[0mTypeError\u001b[0m \u001b[1;32mas\u001b[0m \u001b[0me\u001b[0m\u001b[1;33m:\u001b[0m\u001b[1;33m\u001b[0m\u001b[0m\n\u001b[0;32m     74\u001b[0m                 \u001b[1;32mif\u001b[0m \u001b[1;32mnot\u001b[0m \u001b[0me\u001b[0m\u001b[1;33m.\u001b[0m\u001b[0margs\u001b[0m \u001b[1;32mor\u001b[0m \u001b[1;32mnot\u001b[0m \u001b[0me\u001b[0m\u001b[1;33m.\u001b[0m\u001b[0margs\u001b[0m\u001b[1;33m[\u001b[0m\u001b[1;36m0\u001b[0m\u001b[1;33m]\u001b[0m\u001b[1;33m.\u001b[0m\u001b[0mstartswith\u001b[0m\u001b[1;33m(\u001b[0m\u001b[1;34m'unhashable type:'\u001b[0m\u001b[1;33m)\u001b[0m\u001b[1;33m:\u001b[0m\u001b[1;33m\u001b[0m\u001b[0m\n",
      "\u001b[1;32m~\\env-methods\\lib\\site-packages\\sympy\\core\\basic.py\u001b[0m in \u001b[0;36m_subs\u001b[1;34m(self, old, new, **hints)\u001b[0m\n\u001b[0;32m   1065\u001b[0m         \u001b[0mrv\u001b[0m \u001b[1;33m=\u001b[0m \u001b[0mself\u001b[0m\u001b[1;33m.\u001b[0m\u001b[0m_eval_subs\u001b[0m\u001b[1;33m(\u001b[0m\u001b[0mold\u001b[0m\u001b[1;33m,\u001b[0m \u001b[0mnew\u001b[0m\u001b[1;33m)\u001b[0m\u001b[1;33m\u001b[0m\u001b[0m\n\u001b[0;32m   1066\u001b[0m         \u001b[1;32mif\u001b[0m \u001b[0mrv\u001b[0m \u001b[1;32mis\u001b[0m \u001b[1;32mNone\u001b[0m\u001b[1;33m:\u001b[0m\u001b[1;33m\u001b[0m\u001b[0m\n\u001b[1;32m-> 1067\u001b[1;33m             \u001b[0mrv\u001b[0m \u001b[1;33m=\u001b[0m \u001b[0mfallback\u001b[0m\u001b[1;33m(\u001b[0m\u001b[0mself\u001b[0m\u001b[1;33m,\u001b[0m \u001b[0mold\u001b[0m\u001b[1;33m,\u001b[0m \u001b[0mnew\u001b[0m\u001b[1;33m)\u001b[0m\u001b[1;33m\u001b[0m\u001b[0m\n\u001b[0m\u001b[0;32m   1068\u001b[0m         \u001b[1;32mreturn\u001b[0m \u001b[0mrv\u001b[0m\u001b[1;33m\u001b[0m\u001b[0m\n\u001b[0;32m   1069\u001b[0m \u001b[1;33m\u001b[0m\u001b[0m\n",
      "\u001b[1;32m~\\env-methods\\lib\\site-packages\\sympy\\core\\basic.py\u001b[0m in \u001b[0;36mfallback\u001b[1;34m(self, old, new)\u001b[0m\n\u001b[0;32m   1042\u001b[0m                     \u001b[0margs\u001b[0m\u001b[1;33m[\u001b[0m\u001b[0mi\u001b[0m\u001b[1;33m]\u001b[0m \u001b[1;33m=\u001b[0m \u001b[0marg\u001b[0m\u001b[1;33m\u001b[0m\u001b[0m\n\u001b[0;32m   1043\u001b[0m             \u001b[1;32mif\u001b[0m \u001b[0mhit\u001b[0m\u001b[1;33m:\u001b[0m\u001b[1;33m\u001b[0m\u001b[0m\n\u001b[1;32m-> 1044\u001b[1;33m                 \u001b[0mrv\u001b[0m \u001b[1;33m=\u001b[0m \u001b[0mself\u001b[0m\u001b[1;33m.\u001b[0m\u001b[0mfunc\u001b[0m\u001b[1;33m(\u001b[0m\u001b[1;33m*\u001b[0m\u001b[0margs\u001b[0m\u001b[1;33m)\u001b[0m\u001b[1;33m\u001b[0m\u001b[0m\n\u001b[0m\u001b[0;32m   1045\u001b[0m                 \u001b[0mhack2\u001b[0m \u001b[1;33m=\u001b[0m \u001b[0mhints\u001b[0m\u001b[1;33m.\u001b[0m\u001b[0mget\u001b[0m\u001b[1;33m(\u001b[0m\u001b[1;34m'hack2'\u001b[0m\u001b[1;33m,\u001b[0m \u001b[1;32mFalse\u001b[0m\u001b[1;33m)\u001b[0m\u001b[1;33m\u001b[0m\u001b[0m\n\u001b[0;32m   1046\u001b[0m                 \u001b[1;32mif\u001b[0m \u001b[0mhack2\u001b[0m \u001b[1;32mand\u001b[0m \u001b[0mself\u001b[0m\u001b[1;33m.\u001b[0m\u001b[0mis_Mul\u001b[0m \u001b[1;32mand\u001b[0m \u001b[1;32mnot\u001b[0m \u001b[0mrv\u001b[0m\u001b[1;33m.\u001b[0m\u001b[0mis_Mul\u001b[0m\u001b[1;33m:\u001b[0m  \u001b[1;31m# 2-arg hack\u001b[0m\u001b[1;33m\u001b[0m\u001b[0m\n",
      "\u001b[1;32m~\\env-methods\\lib\\site-packages\\sympy\\core\\cache.py\u001b[0m in \u001b[0;36mwrapper\u001b[1;34m(*args, **kwargs)\u001b[0m\n\u001b[0;32m     70\u001b[0m         \u001b[1;32mdef\u001b[0m \u001b[0mwrapper\u001b[0m\u001b[1;33m(\u001b[0m\u001b[1;33m*\u001b[0m\u001b[0margs\u001b[0m\u001b[1;33m,\u001b[0m \u001b[1;33m**\u001b[0m\u001b[0mkwargs\u001b[0m\u001b[1;33m)\u001b[0m\u001b[1;33m:\u001b[0m\u001b[1;33m\u001b[0m\u001b[0m\n\u001b[0;32m     71\u001b[0m             \u001b[1;32mtry\u001b[0m\u001b[1;33m:\u001b[0m\u001b[1;33m\u001b[0m\u001b[0m\n\u001b[1;32m---> 72\u001b[1;33m                 \u001b[0mretval\u001b[0m \u001b[1;33m=\u001b[0m \u001b[0mcfunc\u001b[0m\u001b[1;33m(\u001b[0m\u001b[1;33m*\u001b[0m\u001b[0margs\u001b[0m\u001b[1;33m,\u001b[0m \u001b[1;33m**\u001b[0m\u001b[0mkwargs\u001b[0m\u001b[1;33m)\u001b[0m\u001b[1;33m\u001b[0m\u001b[0m\n\u001b[0m\u001b[0;32m     73\u001b[0m             \u001b[1;32mexcept\u001b[0m \u001b[0mTypeError\u001b[0m \u001b[1;32mas\u001b[0m \u001b[0me\u001b[0m\u001b[1;33m:\u001b[0m\u001b[1;33m\u001b[0m\u001b[0m\n\u001b[0;32m     74\u001b[0m                 \u001b[1;32mif\u001b[0m \u001b[1;32mnot\u001b[0m \u001b[0me\u001b[0m\u001b[1;33m.\u001b[0m\u001b[0margs\u001b[0m \u001b[1;32mor\u001b[0m \u001b[1;32mnot\u001b[0m \u001b[0me\u001b[0m\u001b[1;33m.\u001b[0m\u001b[0margs\u001b[0m\u001b[1;33m[\u001b[0m\u001b[1;36m0\u001b[0m\u001b[1;33m]\u001b[0m\u001b[1;33m.\u001b[0m\u001b[0mstartswith\u001b[0m\u001b[1;33m(\u001b[0m\u001b[1;34m'unhashable type:'\u001b[0m\u001b[1;33m)\u001b[0m\u001b[1;33m:\u001b[0m\u001b[1;33m\u001b[0m\u001b[0m\n",
      "\u001b[1;32m~\\env-methods\\lib\\site-packages\\sympy\\core\\operations.py\u001b[0m in \u001b[0;36m__new__\u001b[1;34m(cls, evaluate, _sympify, *args)\u001b[0m\n\u001b[0;32m     83\u001b[0m             \u001b[1;32mreturn\u001b[0m \u001b[0margs\u001b[0m\u001b[1;33m[\u001b[0m\u001b[1;36m0\u001b[0m\u001b[1;33m]\u001b[0m\u001b[1;33m\u001b[0m\u001b[0m\n\u001b[0;32m     84\u001b[0m \u001b[1;33m\u001b[0m\u001b[0m\n\u001b[1;32m---> 85\u001b[1;33m         \u001b[0mc_part\u001b[0m\u001b[1;33m,\u001b[0m \u001b[0mnc_part\u001b[0m\u001b[1;33m,\u001b[0m \u001b[0morder_symbols\u001b[0m \u001b[1;33m=\u001b[0m \u001b[0mcls\u001b[0m\u001b[1;33m.\u001b[0m\u001b[0mflatten\u001b[0m\u001b[1;33m(\u001b[0m\u001b[0margs\u001b[0m\u001b[1;33m)\u001b[0m\u001b[1;33m\u001b[0m\u001b[0m\n\u001b[0m\u001b[0;32m     86\u001b[0m         \u001b[0mis_commutative\u001b[0m \u001b[1;33m=\u001b[0m \u001b[1;32mnot\u001b[0m \u001b[0mnc_part\u001b[0m\u001b[1;33m\u001b[0m\u001b[0m\n\u001b[0;32m     87\u001b[0m         \u001b[0mobj\u001b[0m \u001b[1;33m=\u001b[0m \u001b[0mcls\u001b[0m\u001b[1;33m.\u001b[0m\u001b[0m_from_args\u001b[0m\u001b[1;33m(\u001b[0m\u001b[0mc_part\u001b[0m \u001b[1;33m+\u001b[0m \u001b[0mnc_part\u001b[0m\u001b[1;33m,\u001b[0m \u001b[0mis_commutative\u001b[0m\u001b[1;33m)\u001b[0m\u001b[1;33m\u001b[0m\u001b[0m\n",
      "\u001b[1;32m~\\env-methods\\lib\\site-packages\\sympy\\core\\mul.py\u001b[0m in \u001b[0;36mflatten\u001b[1;34m(cls, seq)\u001b[0m\n\u001b[0;32m    670\u001b[0m \u001b[1;33m\u001b[0m\u001b[0m\n\u001b[0;32m    671\u001b[0m         \u001b[1;31m# 0\u001b[0m\u001b[1;33m\u001b[0m\u001b[1;33m\u001b[0m\u001b[0m\n\u001b[1;32m--> 672\u001b[1;33m         \u001b[1;32melif\u001b[0m \u001b[0mcoeff\u001b[0m\u001b[1;33m.\u001b[0m\u001b[0mis_zero\u001b[0m\u001b[1;33m:\u001b[0m\u001b[1;33m\u001b[0m\u001b[0m\n\u001b[0m\u001b[0;32m    673\u001b[0m             \u001b[1;31m# we know for sure the result will be 0 except the multiplicand\u001b[0m\u001b[1;33m\u001b[0m\u001b[1;33m\u001b[0m\u001b[0m\n\u001b[0;32m    674\u001b[0m             \u001b[1;31m# is infinity or a matrix\u001b[0m\u001b[1;33m\u001b[0m\u001b[1;33m\u001b[0m\u001b[0m\n",
      "\u001b[1;32m~\\env-methods\\lib\\site-packages\\sympy\\core\\assumptions.py\u001b[0m in \u001b[0;36mgetit\u001b[1;34m(self)\u001b[0m\n\u001b[0;32m    463\u001b[0m         \u001b[1;32mexcept\u001b[0m \u001b[0mKeyError\u001b[0m\u001b[1;33m:\u001b[0m\u001b[1;33m\u001b[0m\u001b[0m\n\u001b[0;32m    464\u001b[0m             \u001b[1;32mif\u001b[0m \u001b[0mself\u001b[0m\u001b[1;33m.\u001b[0m\u001b[0m_assumptions\u001b[0m \u001b[1;32mis\u001b[0m \u001b[0mself\u001b[0m\u001b[1;33m.\u001b[0m\u001b[0mdefault_assumptions\u001b[0m\u001b[1;33m:\u001b[0m\u001b[1;33m\u001b[0m\u001b[0m\n\u001b[1;32m--> 465\u001b[1;33m                 \u001b[0mself\u001b[0m\u001b[1;33m.\u001b[0m\u001b[0m_assumptions\u001b[0m \u001b[1;33m=\u001b[0m \u001b[0mself\u001b[0m\u001b[1;33m.\u001b[0m\u001b[0mdefault_assumptions\u001b[0m\u001b[1;33m.\u001b[0m\u001b[0mcopy\u001b[0m\u001b[1;33m(\u001b[0m\u001b[1;33m)\u001b[0m\u001b[1;33m\u001b[0m\u001b[0m\n\u001b[0m\u001b[0;32m    466\u001b[0m             \u001b[1;32mreturn\u001b[0m \u001b[0m_ask\u001b[0m\u001b[1;33m(\u001b[0m\u001b[0mfact\u001b[0m\u001b[1;33m,\u001b[0m \u001b[0mself\u001b[0m\u001b[1;33m)\u001b[0m\u001b[1;33m\u001b[0m\u001b[0m\n\u001b[0;32m    467\u001b[0m \u001b[1;33m\u001b[0m\u001b[0m\n",
      "\u001b[1;32m~\\env-methods\\lib\\site-packages\\sympy\\core\\assumptions.py\u001b[0m in \u001b[0;36mcopy\u001b[1;34m(self)\u001b[0m\n\u001b[0;32m    443\u001b[0m \u001b[1;33m\u001b[0m\u001b[0m\n\u001b[0;32m    444\u001b[0m     \u001b[1;32mdef\u001b[0m \u001b[0mcopy\u001b[0m\u001b[1;33m(\u001b[0m\u001b[0mself\u001b[0m\u001b[1;33m)\u001b[0m\u001b[1;33m:\u001b[0m\u001b[1;33m\u001b[0m\u001b[0m\n\u001b[1;32m--> 445\u001b[1;33m         \u001b[1;32mreturn\u001b[0m \u001b[0mself\u001b[0m\u001b[1;33m.\u001b[0m\u001b[0m__class__\u001b[0m\u001b[1;33m(\u001b[0m\u001b[0mself\u001b[0m\u001b[1;33m)\u001b[0m\u001b[1;33m\u001b[0m\u001b[0m\n\u001b[0m\u001b[0;32m    446\u001b[0m \u001b[1;33m\u001b[0m\u001b[0m\n\u001b[0;32m    447\u001b[0m     \u001b[1;33m@\u001b[0m\u001b[0mproperty\u001b[0m\u001b[1;33m\u001b[0m\u001b[0m\n",
      "\u001b[1;32m~\\env-methods\\lib\\site-packages\\sympy\\core\\assumptions.py\u001b[0m in \u001b[0;36m__init__\u001b[1;34m(self, facts)\u001b[0m\n\u001b[0;32m    440\u001b[0m             \u001b[0mself\u001b[0m\u001b[1;33m.\u001b[0m\u001b[0m_generator\u001b[0m \u001b[1;33m=\u001b[0m \u001b[0mfacts\u001b[0m\u001b[1;33m.\u001b[0m\u001b[0mgenerator\u001b[0m\u001b[1;33m\u001b[0m\u001b[0m\n\u001b[0;32m    441\u001b[0m         \u001b[1;32mif\u001b[0m \u001b[0mfacts\u001b[0m\u001b[1;33m:\u001b[0m\u001b[1;33m\u001b[0m\u001b[0m\n\u001b[1;32m--> 442\u001b[1;33m             \u001b[0mself\u001b[0m\u001b[1;33m.\u001b[0m\u001b[0mdeduce_all_facts\u001b[0m\u001b[1;33m(\u001b[0m\u001b[0mfacts\u001b[0m\u001b[1;33m)\u001b[0m\u001b[1;33m\u001b[0m\u001b[0m\n\u001b[0m\u001b[0;32m    443\u001b[0m \u001b[1;33m\u001b[0m\u001b[0m\n\u001b[0;32m    444\u001b[0m     \u001b[1;32mdef\u001b[0m \u001b[0mcopy\u001b[0m\u001b[1;33m(\u001b[0m\u001b[0mself\u001b[0m\u001b[1;33m)\u001b[0m\u001b[1;33m:\u001b[0m\u001b[1;33m\u001b[0m\u001b[0m\n",
      "\u001b[1;32m~\\env-methods\\lib\\site-packages\\sympy\\core\\facts.py\u001b[0m in \u001b[0;36mdeduce_all_facts\u001b[1;34m(self, facts)\u001b[0m\n\u001b[0;32m    530\u001b[0m             \u001b[0mfacts\u001b[0m \u001b[1;33m=\u001b[0m \u001b[1;33m[\u001b[0m\u001b[1;33m]\u001b[0m\u001b[1;33m\u001b[0m\u001b[0m\n\u001b[0;32m    531\u001b[0m             \u001b[1;32mfor\u001b[0m \u001b[0mbidx\u001b[0m \u001b[1;32min\u001b[0m \u001b[0mbeta_maytrigger\u001b[0m\u001b[1;33m:\u001b[0m\u001b[1;33m\u001b[0m\u001b[0m\n\u001b[1;32m--> 532\u001b[1;33m                 \u001b[0mbcond\u001b[0m\u001b[1;33m,\u001b[0m \u001b[0mbimpl\u001b[0m \u001b[1;33m=\u001b[0m \u001b[0mbeta_rules\u001b[0m\u001b[1;33m[\u001b[0m\u001b[0mbidx\u001b[0m\u001b[1;33m]\u001b[0m\u001b[1;33m\u001b[0m\u001b[0m\n\u001b[0m\u001b[0;32m    533\u001b[0m                 \u001b[1;32mif\u001b[0m \u001b[0mall\u001b[0m\u001b[1;33m(\u001b[0m\u001b[0mself\u001b[0m\u001b[1;33m.\u001b[0m\u001b[0mget\u001b[0m\u001b[1;33m(\u001b[0m\u001b[0mk\u001b[0m\u001b[1;33m)\u001b[0m \u001b[1;32mis\u001b[0m \u001b[0mv\u001b[0m \u001b[1;32mfor\u001b[0m \u001b[0mk\u001b[0m\u001b[1;33m,\u001b[0m \u001b[0mv\u001b[0m \u001b[1;32min\u001b[0m \u001b[0mbcond\u001b[0m\u001b[1;33m)\u001b[0m\u001b[1;33m:\u001b[0m\u001b[1;33m\u001b[0m\u001b[0m\n\u001b[0;32m    534\u001b[0m                     \u001b[0mfacts\u001b[0m\u001b[1;33m.\u001b[0m\u001b[0mappend\u001b[0m\u001b[1;33m(\u001b[0m\u001b[0mbimpl\u001b[0m\u001b[1;33m)\u001b[0m\u001b[1;33m\u001b[0m\u001b[0m\n",
      "\u001b[1;31mKeyboardInterrupt\u001b[0m: "
     ]
    }
   ],
   "source": [
    "# plotting deviation (right + central)\n",
    "\n",
    "start_index = 100\n",
    "end_index = 1000\n",
    "step = 50\n",
    "\n",
    "# init\n",
    "h_s = []\n",
    "deviation_right = []\n",
    "deviation_central = []\n",
    "for n_i in range(start_index, end_index, step):\n",
    "    \n",
    "    # current h\n",
    "    h = (b - a) / n_i\n",
    "    h_s.append(abs(log(h)))\n",
    "    \n",
    "    # current coords\n",
    "    coords = [a + i * h for i in range(n_i)]\n",
    "    \n",
    "    # current right derivative\n",
    "    right_derivative_coords = []\n",
    "    right_derivative = []\n",
    "    for i in range(n_i - 1):\n",
    "        right_derivative_coords.append(coords[i])\n",
    "        curr_right_derivate = (f_x.subs('x', coords[i + 1]) - f_x.subs('x', coords[i])) / h\n",
    "        right_derivative.append(curr_right_derivate)\n",
    "    right_derivative_coords.append(b)\n",
    "    right_derivative.append(f_x.subs('x', coords[n_i - 1]) - f_x.subs('x', coords[n_i - 2]) / h)\n",
    "    \n",
    "    # prepearing checking data\n",
    "    check_coords = right_derivative_coords\n",
    "    check_values = []\n",
    "    for i in range(len(check_coords)):\n",
    "        check_values.append(derivative_f_x.subs(x, check_coords[i]).n())\n",
    "    current_values = right_derivative\n",
    "    deviation = []\n",
    "    for i in range(len(check_coords)):\n",
    "        deviation.append(abs(check_values[i] - current_values[i]))\n",
    "    \n",
    "    # counting current deviation\n",
    "    deviation_right.append(abs(log(max(deviation))))\n",
    "    \n",
    "    \n",
    "    # current central derivative \n",
    "    central_derivative = []\n",
    "    central_derivative_coords = []\n",
    "    central_derivative_coords.append(a)\n",
    "    central_derivative.append(-3/2 * f_x.subs('x', coords[0]) + 2 * f_x.subs('x', coords[1]) - 1/2 * f_x.subs('x', coords[2]) / h)\n",
    "    for i in range(1, n_i - 1):\n",
    "        central_derivative_coords.append(coords[i])\n",
    "        curr_central_derivate = (f_x.subs('x', coords[i + 1]) - f_x.subs('x', coords[i - 1])) / (2 * h)\n",
    "        central_derivative.append(curr_central_derivate)\n",
    "    central_derivative_coords.append(b)\n",
    "    central_derivative.append(-3/2 * f_x.subs('x', coords[n_i - 1]) + 2 * f_x.subs('x', coords[n_i - 2]) - 1/2 * f_x.subs('x', coords[n_i - 3]) / h)\n",
    "    \n",
    "    # prepearing checking data\n",
    "    check_coords = central_derivative_coords\n",
    "    check_values = []\n",
    "    for i in range(len(check_coords)):\n",
    "        check_values.append(derivative_f_x.subs(x, check_coords[i]).n())\n",
    "    current_values = central_derivative\n",
    "    deviation = []\n",
    "    for i in range(len(check_coords)):\n",
    "        deviation.append(abs(check_values[i] - current_values[i]))\n",
    "    \n",
    "    # counting current deviation\n",
    "    deviation_central.append(abs(log(max(deviation))))\n",
    "    \n",
    "    \n",
    "plt.plot(h_s, deviation_right)\n",
    "plt.plot(h_s, deviation_central)\n",
    "# blue - deviation_right; orange - deviation_central"
   ]
  },
  {
   "cell_type": "code",
   "execution_count": 350,
   "id": "d44c728e",
   "metadata": {},
   "outputs": [
    {
     "data": {
      "text/plain": [
       "[<matplotlib.lines.Line2D at 0x1c480d90>]"
      ]
     },
     "execution_count": 350,
     "metadata": {},
     "output_type": "execute_result"
    },
    {
     "data": {
      "image/png": "[encoded data removed]",
      "text/plain": [
       "<Figure size 432x288 with 1 Axes>"
      ]
     },
     "metadata": {
      "needs_background": "light"
     },
     "output_type": "display_data"
    }
   ],
   "source": [
    "# plotting second deviation (2 + 4)\n",
    "\n",
    "start_index = 100\n",
    "end_index = 1000\n",
    "step = 50\n",
    "\n",
    "h_s = []\n",
    "deviation_central_second_2 = []\n",
    "deviation_central_second_4 = []\n",
    "for n_i in range(start_index,end_index, step):\n",
    "    \n",
    "    # current h\n",
    "    h = (b - a) / n_i\n",
    "    h_s.append(abs(log(h)))\n",
    "    \n",
    "    # current coords\n",
    "    coords = [a + i * h for i in range(n_i)]\n",
    "    \n",
    "    # current second derivative 4\n",
    "    central_second_derivative_4 = []\n",
    "    central_second_derivative_4_coords = []\n",
    "    for i in range(len(coords)):\n",
    "        central_second_derivative_4_coords.append(coords[i])\n",
    "        curr_central_second_derivative_4 = (-1/12 * f_x.subs('x', coords[i] + 2 * h) + 4/3 * f_x.subs('x', coords[i] + h) - 5/2 * f_x.subs('x', coords[i]) + 4/3 * f_x.subs('x', coords[i] - h) - 1/12 * f_x.subs('x', coords[i] - 2 * h)) / (h * h)\n",
    "        central_second_derivative_4.append(curr_central_second_derivative_4)\n",
    "    \n",
    "    # prepearing checking data\n",
    "    check_coords = central_second_derivative_4_coords\n",
    "    check_values = []\n",
    "    for i in range(len(check_coords)):\n",
    "        check_values.append(derivative_f_x.subs(x, check_coords[i]).n())\n",
    "    current_values = central_second_derivative_4\n",
    "    deviation = []\n",
    "    for i in range(len(check_coords)):\n",
    "        deviation.append(abs(check_values[i] - current_values[i]))\n",
    "    \n",
    "    # counting current deviation\n",
    "    deviation_central_second_4.append(abs(log(max(deviation))))\n",
    "    \n",
    "    # current second derivative 2\n",
    "    central_second_derivative_2 = []\n",
    "    central_second_derivative_2_coords = []\n",
    "    for i in range(len(coords)):\n",
    "        central_second_derivative_2_coords.append(coords[i])\n",
    "        curr_central_second_derivative_2 = (f_x.subs('x', (coords[i] - h)) - 2 * f_x.subs('x', coords[i]) + f_x.subs('x', (coords[i] + h))) / (h * h)\n",
    "        central_second_derivative_2.append(curr_central_second_derivative_2)\n",
    "        \n",
    "    # prepearing checking data\n",
    "    check_coords = central_second_derivative_2_coords\n",
    "    check_values = []\n",
    "    for i in range(len(check_coords)):\n",
    "        check_values.append(derivative_f_x.subs(x, check_coords[i]).n())\n",
    "    current_values = central_second_derivative_2\n",
    "    deviation = []\n",
    "    for i in range(len(check_coords)):\n",
    "        deviation.append(abs(check_values[i] - current_values[i]))\n",
    "    \n",
    "    # counting current deviation\n",
    "    deviation_central_second_2.append(abs(log(max(deviation))))\n",
    "    \n",
    "plt.plot(h_s, deviation_central_second_2)\n",
    "plt.plot(h_s, deviation_central_second_4)\n",
    "# blue - deviation_central_second_2; orange - deviation_central_second_4"
   ]
  },
  {
   "cell_type": "code",
   "execution_count": null,
   "id": "a45bc214",
   "metadata": {},
   "outputs": [],
   "source": []
  }
 ],
 "metadata": {
  "kernelspec": {
   "display_name": "env_methods",
   "language": "python",
   "name": "env_methods"
  },
  "language_info": {
   "codemirror_mode": {
    "name": "ipython",
    "version": 3
   },
   "file_extension": ".py",
   "mimetype": "text/x-python",
   "name": "python",
   "nbconvert_exporter": "python",
   "pygments_lexer": "ipython3",
   "version": "3.6.5"
  }
 },
 "nbformat": 4,
 "nbformat_minor": 5
}
