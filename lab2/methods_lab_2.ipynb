{
 "cells": [
  {
   "cell_type": "code",
   "execution_count": 270,
   "id": "b001e651",
   "metadata": {},
   "outputs": [],
   "source": [
    "from sympy import *\n",
    "import numpy as np\n",
    "import matplotlib.pyplot as plt"
   ]
  },
  {
   "cell_type": "code",
   "execution_count": 271,
   "id": "6dc1a3bb",
   "metadata": {},
   "outputs": [],
   "source": [
    "# variant 27\n",
    "# f(x) = sin^2( cos (x) )\n",
    "# [-1.5, 1.5]"
   ]
  },
  {
   "cell_type": "code",
   "execution_count": 272,
   "id": "0186ccea",
   "metadata": {},
   "outputs": [],
   "source": [
    "# parameters that can be changed\n",
    "\n",
    "n = 14            # number of points"
   ]
  },
  {
   "cell_type": "code",
   "execution_count": 308,
   "id": "76b28f9f",
   "metadata": {},
   "outputs": [
    {
     "data": {
      "text/latex": [
       "$\\displaystyle \\sin^{2}{\\left(\\cos{\\left(x \\right)} \\right)}$"
      ],
      "text/plain": [
       "sin(cos(x))**2"
      ]
     },
     "execution_count": 308,
     "metadata": {},
     "output_type": "execute_result"
    }
   ],
   "source": [
    "# function declaration\n",
    "\n",
    "a = -1.5\n",
    "b = 1.5\n",
    "h = (b - a) / n\n",
    "\n",
    "x = symbols('x')\n",
    "f_x = (sin(cos(x)))**2\n",
    "f_x"
   ]
  },
  {
   "cell_type": "code",
   "execution_count": 309,
   "id": "81386dbc",
   "metadata": {},
   "outputs": [
    {
     "data": {
      "text/latex": [
       "$\\displaystyle - 2 \\sin{\\left(x \\right)} \\sin{\\left(\\cos{\\left(x \\right)} \\right)} \\cos{\\left(\\cos{\\left(x \\right)} \\right)}$"
      ],
      "text/plain": [
       "-2*sin(x)*sin(cos(x))*cos(cos(x))"
      ]
     },
     "execution_count": 309,
     "metadata": {},
     "output_type": "execute_result"
    }
   ],
   "source": [
    "# 1st derivative\n",
    "\n",
    "derivative_f_x = diff(f_x, x)\n",
    "derivative_f_x"
   ]
  },
  {
   "cell_type": "code",
   "execution_count": 310,
   "id": "4de06fd2",
   "metadata": {},
   "outputs": [
    {
     "name": "stdout",
     "output_type": "stream",
     "text": [
      "h:  0.23076923076923078\n"
     ]
    }
   ],
   "source": [
    "# defenition of fragmentation\n",
    "\n",
    "coords = []\n",
    "h = (b - a) / n\n",
    "print(\"h: \", h)\n",
    "for i in range(n):\n",
    "    coords.append(a + i * h)\n",
    "#coords"
   ]
  },
  {
   "cell_type": "code",
   "execution_count": 311,
   "id": "bbc67c08",
   "metadata": {},
   "outputs": [],
   "source": [
    "# counting right derivative \n",
    "\n",
    "right_derivative = []\n",
    "right_derivative_coords = []\n",
    "\n",
    "\n",
    "for i in range(n - 1):\n",
    "    right_derivative_coords.append(coords[i])\n",
    "    curr_right_derivate = (f_x.subs('x', coords[i + 1]) - f_x.subs('x', coords[i])) / h\n",
    "    right_derivative.append(curr_right_derivate)\n",
    "    \n",
    "# adding right side\n",
    "right_derivative_coords.append(b)\n",
    "right_derivative.append(f_x.subs('x', coords[len(coords) - 1]) - f_x.subs('x', coords[len(coords) - 2]) / h)\n",
    "\n",
    "#right_derivative"
   ]
  },
  {
   "cell_type": "code",
   "execution_count": 312,
   "id": "8c1d2c85",
   "metadata": {},
   "outputs": [
    {
     "data": {
      "text/latex": [
       "$\\displaystyle 0.225523783290382$"
      ],
      "text/plain": [
       "0.225523783290382"
      ]
     },
     "execution_count": 312,
     "metadata": {},
     "output_type": "execute_result"
    }
   ],
   "source": [
    "# checking right derivative\n",
    "\n",
    "check_coords = right_derivative_coords\n",
    "\n",
    "check_values = []\n",
    "for i in range(len(check_coords)):\n",
    "    check_values.append(derivative_f_x.subs(x, check_coords[i]).n())\n",
    "#check_values\n",
    "\n",
    "current_values = right_derivative\n",
    "\n",
    "deviation = []\n",
    "for i in range(len(check_coords)):\n",
    "    deviation.append(abs(check_values[i] - current_values[i]))\n",
    "max(deviation)"
   ]
  },
  {
   "cell_type": "code",
   "execution_count": 313,
   "id": "dc9ca1aa",
   "metadata": {},
   "outputs": [],
   "source": [
    "# counting central derivative \n",
    "\n",
    "central_derivative = []\n",
    "central_derivative_coords = []\n",
    "\n",
    "# adding left side\n",
    "central_derivative_coords.append(a)\n",
    "central_derivative.append(-3/2 * f_x.subs('x', coords[0]) + 2 * f_x.subs('x', coords[1]) - 1/2 * f_x.subs('x', coords[2]) / h)\n",
    "\n",
    "for i in range(1, n - 1):\n",
    "    central_derivative_coords.append(coords[i])\n",
    "    curr_central_derivate = (f_x.subs('x', coords[i + 1]) - f_x.subs('x', coords[i - 1])) / (2 * h)\n",
    "    central_derivative.append(curr_central_derivate)\n",
    "\n",
    "# adding right side\n",
    "central_derivative_coords.append(b)\n",
    "central_derivative.append(-3/2 * f_x.subs('x', coords[n - 1]) + 2 * f_x.subs('x', coords[n - 2]) - 1/2 * f_x.subs('x', coords[n - 3]) / h)\n",
    "\n",
    "#central_derivative"
   ]
  },
  {
   "cell_type": "code",
   "execution_count": 314,
   "id": "b39917db",
   "metadata": {},
   "outputs": [
    {
     "data": {
      "text/latex": [
       "$\\displaystyle 0.488664649616796$"
      ],
      "text/plain": [
       "0.488664649616796"
      ]
     },
     "execution_count": 314,
     "metadata": {},
     "output_type": "execute_result"
    }
   ],
   "source": [
    "# checking central derivative\n",
    "\n",
    "check_coords = central_derivative_coords\n",
    "\n",
    "check_values = []\n",
    "for i in range(len(check_coords)):\n",
    "    check_values.append(derivative_f_x.subs(x, check_coords[i]).n())\n",
    "#check_values\n",
    "\n",
    "current_values = central_derivative\n",
    "\n",
    "deviation = []\n",
    "for i in range(len(check_coords)):\n",
    "    deviation.append(abs(check_values[i] - current_values[i]))\n",
    "max(deviation)"
   ]
  },
  {
   "cell_type": "code",
   "execution_count": 315,
   "id": "2491d025",
   "metadata": {},
   "outputs": [],
   "source": [
    "# make interpolation (from previous task) for making plots of derivatives\n",
    "\n",
    "def interolateFunc(f_x, a, b, coords, values):\n",
    "    x = symbols('x')\n",
    "    F_x = 0\n",
    "    for i in range(len(coords)):\n",
    "        curr = values[i]\n",
    "        for k in range(len(coords)):\n",
    "            if k != i:\n",
    "                curr *= (x - coords[k]) / (coords[i] - coords[k])\n",
    "        F_x += curr\n",
    "    check_coords = []\n",
    "    for i in range(len(coords) - 1):\n",
    "        check_coords.append((coords[i + 1] + coords[i]) / 2)\n",
    "    check_values = []\n",
    "    for i in range(len(check_coords)):\n",
    "        check_values.append(f_x.subs(x, check_coords[i]).n())\n",
    "    current_values = []\n",
    "    for i in range(len(check_coords)):\n",
    "        current_values.append(F_x.subs(x, check_coords[i]).n())\n",
    "    abses = []\n",
    "    for i in range(len(check_coords)):\n",
    "        abses.append(np.absolute(check_values[i] - current_values[i]))\n",
    "    return [max(abses), (x, a, b), F_x, f_x]"
   ]
  },
  {
   "cell_type": "code",
   "execution_count": 316,
   "id": "cf6754a7",
   "metadata": {},
   "outputs": [
    {
     "name": "stdout",
     "output_type": "stream",
     "text": [
      "0.0993177731502112\n"
     ]
    },
    {
     "data": {
      "image/png": "[encoded data removed]",
      "text/plain": [
       "<Figure size 432x288 with 1 Axes>"
      ]
     },
     "metadata": {
      "needs_background": "light"
     },
     "output_type": "display_data"
    },
    {
     "data": {
      "text/plain": [
       "<sympy.plotting.plot.Plot at 0x1bafd810>"
      ]
     },
     "execution_count": 316,
     "metadata": {},
     "output_type": "execute_result"
    }
   ],
   "source": [
    "# plotting central derivatives (blue - counted, orange - original)\n",
    "\n",
    "result = interolateFunc(derivative_f_x, a, b, central_derivative_coords, central_derivative)\n",
    "print(result[0])\n",
    "plot(result[2], result[3], result[1])"
   ]
  },
  {
   "cell_type": "code",
   "execution_count": 318,
   "id": "b8ee3832",
   "metadata": {},
   "outputs": [
    {
     "name": "stdout",
     "output_type": "stream",
     "text": [
      "0.167553631304951\n"
     ]
    },
    {
     "data": {
      "image/png": "[encoded data removed]",
      "text/plain": [
       "<Figure size 432x288 with 1 Axes>"
      ]
     },
     "metadata": {
      "needs_background": "light"
     },
     "output_type": "display_data"
    },
    {
     "data": {
      "text/plain": [
       "<sympy.plotting.plot.Plot at 0x1bbebed0>"
      ]
     },
     "execution_count": 318,
     "metadata": {},
     "output_type": "execute_result"
    }
   ],
   "source": [
    "# plotting right derivatives (blue - counted, orange - original)\n",
    "\n",
    "result = interolateFunc(derivative_f_x, a, b, right_derivative_coords, right_derivative)\n",
    "print(result[0])\n",
    "plot(result[2], result[3], result[1])"
   ]
  },
  {
   "cell_type": "code",
   "execution_count": 319,
   "id": "24ea232a",
   "metadata": {},
   "outputs": [
    {
     "data": {
      "text/latex": [
       "$\\displaystyle - 2 \\sin^{2}{\\left(x \\right)} \\sin^{2}{\\left(\\cos{\\left(x \\right)} \\right)} + 2 \\sin^{2}{\\left(x \\right)} \\cos^{2}{\\left(\\cos{\\left(x \\right)} \\right)} - 2 \\sin{\\left(\\cos{\\left(x \\right)} \\right)} \\cos{\\left(x \\right)} \\cos{\\left(\\cos{\\left(x \\right)} \\right)}$"
      ],
      "text/plain": [
       "-2*sin(x)**2*sin(cos(x))**2 + 2*sin(x)**2*cos(cos(x))**2 - 2*sin(cos(x))*cos(x)*cos(cos(x))"
      ]
     },
     "execution_count": 319,
     "metadata": {},
     "output_type": "execute_result"
    }
   ],
   "source": [
    "# 2nd derivative\n",
    "\n",
    "second_derivative_f_x = diff(derivative_f_x)\n",
    "second_derivative_f_x"
   ]
  },
  {
   "cell_type": "code",
   "execution_count": 320,
   "id": "ddcf293e",
   "metadata": {},
   "outputs": [],
   "source": [
    "# counting 2nd derivative with accuracy 2\n",
    "\n",
    "central_second_derivative_2 = []\n",
    "central_second_derivative_2_coords = []\n",
    "for i in range(n):\n",
    "    central_second_derivative_2_coords.append(coords[i])\n",
    "    curr_central_second_derivative_2 = (f_x.subs('x', (coords[i] - h)) - 2 * f_x.subs('x', coords[i]) + f_x.subs('x', (coords[i] + h))) / (h * h)\n",
    "    central_second_derivative_2.append(curr_central_second_derivative_2)\n",
    "#central_second_derivative_2"
   ]
  },
  {
   "cell_type": "code",
   "execution_count": 321,
   "id": "efe80fcd",
   "metadata": {},
   "outputs": [
    {
     "name": "stdout",
     "output_type": "stream",
     "text": [
      "0.0515345310016226\n"
     ]
    },
    {
     "data": {
      "image/png": "[encoded data removed]",
      "text/plain": [
       "<Figure size 432x288 with 1 Axes>"
      ]
     },
     "metadata": {
      "needs_background": "light"
     },
     "output_type": "display_data"
    },
    {
     "data": {
      "text/plain": [
       "<sympy.plotting.plot.Plot at 0x1b616670>"
      ]
     },
     "execution_count": 321,
     "metadata": {},
     "output_type": "execute_result"
    }
   ],
   "source": [
    "# plotting 2nd derivative (2)\n",
    "\n",
    "result = interolateFunc(second_derivative_f_x, a, b, central_second_derivative_2_coords, central_second_derivative_2)\n",
    "print(result[0])\n",
    "plot(result[2], result[3], result[1])"
   ]
  },
  {
   "cell_type": "code",
   "execution_count": 322,
   "id": "4a03d004",
   "metadata": {},
   "outputs": [],
   "source": [
    "# counting 2nd derivative with accuracy 4\n",
    "\n",
    "central_second_derivative_4 = []\n",
    "central_second_derivative_4_coords = []\n",
    "for i in range(n):\n",
    "    central_second_derivative_4_coords.append(coords[i])\n",
    "    curr_central_second_derivative_4 = (-1/12 * f_x.subs('x', coords[i] + 2 * h) + 4/3 * f_x.subs('x', coords[i] + h) - 5/2 * f_x.subs('x', coords[i]) + 4/3 * f_x.subs('x', coords[i] - h) - 1/12 * f_x.subs('x', coords[i] - 2 * h)) / (h * h)\n",
    "    central_second_derivative_4.append(curr_central_second_derivative_4)\n",
    "#central_second_derivative_2"
   ]
  },
  {
   "cell_type": "code",
   "execution_count": 305,
   "id": "7b08aa3f",
   "metadata": {},
   "outputs": [
    {
     "name": "stdout",
     "output_type": "stream",
     "text": [
      "0.00436063563702256\n"
     ]
    },
    {
     "data": {
      "image/png": "[encoded data removed]",
      "text/plain": [
       "<Figure size 432x288 with 1 Axes>"
      ]
     },
     "metadata": {
      "needs_background": "light"
     },
     "output_type": "display_data"
    },
    {
     "data": {
      "text/plain": [
       "<sympy.plotting.plot.Plot at 0x1b4308d0>"
      ]
     },
     "execution_count": 305,
     "metadata": {},
     "output_type": "execute_result"
    }
   ],
   "source": [
    "# plotting 2nd derivative (4)\n",
    "\n",
    "result1 = interolateFunc(second_derivative_f_x, a, b, central_second_derivative_4_coords, central_second_derivative_4)\n",
    "print(result1[0])\n",
    "plot(result1[2], result1[3], result1[1])"
   ]
  },
  {
   "cell_type": "code",
   "execution_count": 351,
   "id": "19deccb9",
   "metadata": {},
   "outputs": [
    {
     "data": {
      "text/plain": [
       "[<matplotlib.lines.Line2D at 0x1c4b55d0>]"
      ]
     },
     "execution_count": 351,
     "metadata": {},
     "output_type": "execute_result"
    },
    {
     "data": {
      "image/png": "[encoded data removed]",
      "text/plain": [
       "<Figure size 432x288 with 1 Axes>"
      ]
     },
     "metadata": {
      "needs_background": "light"
     },
     "output_type": "display_data"
    }
   ],
   "source": [
    "# plotting deviation (right + central)\n",
    "\n",
    "start_index = 100\n",
    "end_index = 300\n",
    "step = 50\n",
    "\n",
    "# init\n",
    "h_s = []\n",
    "deviation_right = []\n",
    "deviation_central = []\n",
    "for n_i in range(start_index, end_index, step):\n",
    "    \n",
    "    # current h\n",
    "    h = (b - a) / n_i\n",
    "    h_s.append(abs(log(h)))\n",
    "    \n",
    "    # current coords\n",
    "    coords = [a + i * h for i in range(n_i)]\n",
    "    \n",
    "    # current right derivative\n",
    "    right_derivative_coords = []\n",
    "    right_derivative = []\n",
    "    for i in range(n_i - 1):\n",
    "        right_derivative_coords.append(coords[i])\n",
    "        curr_right_derivate = (f_x.subs('x', coords[i + 1]) - f_x.subs('x', coords[i])) / h\n",
    "        right_derivative.append(curr_right_derivate)\n",
    "    right_derivative_coords.append(b)\n",
    "    right_derivative.append(f_x.subs('x', coords[n_i - 1]) - f_x.subs('x', coords[n_i - 2]) / h)\n",
    "    \n",
    "    # prepearing checking data\n",
    "    check_coords = right_derivative_coords\n",
    "    check_values = []\n",
    "    for i in range(len(check_coords)):\n",
    "        check_values.append(derivative_f_x.subs(x, check_coords[i]).n())\n",
    "    current_values = right_derivative\n",
    "    deviation = []\n",
    "    for i in range(len(check_coords)):\n",
    "        deviation.append(abs(check_values[i] - current_values[i]))\n",
    "    \n",
    "    # counting current deviation\n",
    "    deviation_right.append(abs(log(max(deviation))))\n",
    "    \n",
    "    \n",
    "    # current central derivative \n",
    "    central_derivative = []\n",
    "    central_derivative_coords = []\n",
    "    central_derivative_coords.append(a)\n",
    "    central_derivative.append(-3/2 * f_x.subs('x', coords[0]) + 2 * f_x.subs('x', coords[1]) - 1/2 * f_x.subs('x', coords[2]) / h)\n",
    "    for i in range(1, n_i - 1):\n",
    "        central_derivative_coords.append(coords[i])\n",
    "        curr_central_derivate = (f_x.subs('x', coords[i + 1]) - f_x.subs('x', coords[i - 1])) / (2 * h)\n",
    "        central_derivative.append(curr_central_derivate)\n",
    "    central_derivative_coords.append(b)\n",
    "    central_derivative.append(-3/2 * f_x.subs('x', coords[n_i - 1]) + 2 * f_x.subs('x', coords[n_i - 2]) - 1/2 * f_x.subs('x', coords[n_i - 3]) / h)\n",
    "    \n",
    "    # prepearing checking data\n",
    "    check_coords = central_derivative_coords\n",
    "    check_values = []\n",
    "    for i in range(len(check_coords)):\n",
    "        check_values.append(derivative_f_x.subs(x, check_coords[i]).n())\n",
    "    current_values = central_derivative\n",
    "    deviation = []\n",
    "    for i in range(len(check_coords)):\n",
    "        deviation.append(abs(check_values[i] - current_values[i]))\n",
    "    \n",
    "    # counting current deviation\n",
    "    deviation_central.append(abs(log(max(deviation))))\n",
    "    \n",
    "    \n",
    "plt.plot(h_s, deviation_right)\n",
    "plt.plot(h_s, deviation_central)\n",
    "# blue - deviation_right; orange - deviation_central"
   ]
  },
  {
   "cell_type": "code",
   "execution_count": null,
   "id": "6f1a222c",
   "metadata": {},
   "outputs": [],
   "source": [
    "# plotting second deviation (2 + 4)\n",
    "\n",
    "start_index = 100\n",
    "end_index = 10000\n",
    "step = 50\n",
    "\n",
    "h_s = []\n",
    "deviation_central_second_2 = []\n",
    "deviation_central_second_4 = []\n",
    "for n_i in range(start_index,end_index, step):\n",
    "    \n",
    "    # current h\n",
    "    h = (b - a) / n_i\n",
    "    h_s.append(abs(log(h).n()))\n",
    "    \n",
    "    # current coords\n",
    "    coords = [a + i * h for i in range(n_i)]\n",
    "    \n",
    "    # current second derivative 4\n",
    "    central_second_derivative_4 = []\n",
    "    central_second_derivative_4_coords = []\n",
    "    for i in range(len(coords)):\n",
    "        central_second_derivative_4_coords.append(coords[i])\n",
    "        curr_central_second_derivative_4 = (-1/12 * f_x.subs('x', coords[i] + 2 * h).n() + 4/3 * f_x.subs('x', coords[i] + h).n() - 5/2 * f_x.subs('x', coords[i]).n() + 4/3 * f_x.subs('x', coords[i] - h).n() - 1/12 * f_x.subs('x', coords[i] - 2 * h).n()) / (h * h)\n",
    "        central_second_derivative_4.append(curr_central_second_derivative_4)\n",
    "    \n",
    "    # prepearing checking data\n",
    "    check_coords = central_second_derivative_4_coords\n",
    "    check_values = []\n",
    "    for i in range(len(check_coords)):\n",
    "        check_values.append(derivative_f_x.subs(x, check_coords[i]))\n",
    "    current_values = central_second_derivative_4\n",
    "    deviation = []\n",
    "    for i in range(len(check_coords)):\n",
    "        deviation.append(abs(check_values[i] - current_values[i]))\n",
    "    \n",
    "    # counting current deviation\n",
    "    deviation_central_second_4.append(abs(log(max(deviation)).n()))\n",
    "    \n",
    "    # current second derivative 2\n",
    "    central_second_derivative_2 = []\n",
    "    central_second_derivative_2_coords = []\n",
    "    for i in range(len(coords)):\n",
    "        central_second_derivative_2_coords.append(coords[i])\n",
    "        curr_central_second_derivative_2 = (f_x.subs('x', (coords[i] - h)).n() - 2 * f_x.subs('x', coords[i]).n() + f_x.subs('x', (coords[i] + h)).n()) / (h * h)\n",
    "        central_second_derivative_2.append(curr_central_second_derivative_2)\n",
    "        \n",
    "    # prepearing checking data\n",
    "    check_coords = central_second_derivative_2_coords\n",
    "    check_values = []\n",
    "    for i in range(len(check_coords)):\n",
    "        check_values.append(derivative_f_x.subs(x, check_coords[i]).n())\n",
    "    current_values = central_second_derivative_2\n",
    "    deviation = []\n",
    "    for i in range(len(check_coords)):\n",
    "        deviation.append(abs(check_values[i] - current_values[i]))\n",
    "    \n",
    "    # counting current deviation\n",
    "    deviation_central_second_2.append(abs(log(max(deviation)).n()))\n",
    "    \n",
    "plt.plot(h_s, deviation_central_second_2)\n",
    "plt.plot(h_s, deviation_central_second_4)\n",
    "# blue - deviation_central_second_2; orange - deviation_central_second_4"
   ]
  },
  {
   "cell_type": "code",
   "execution_count": null,
   "id": "939a4d88",
   "metadata": {},
   "outputs": [],
   "source": []
  }
 ],
 "metadata": {
  "kernelspec": {
   "display_name": "env_methods",
   "language": "python",
   "name": "env_methods"
  },
  "language_info": {
   "codemirror_mode": {
    "name": "ipython",
    "version": 3
   },
   "file_extension": ".py",
   "mimetype": "text/x-python",
   "name": "python",
   "nbconvert_exporter": "python",
   "pygments_lexer": "ipython3",
   "version": "3.6.5"
  }
 },
 "nbformat": 4,
 "nbformat_minor": 5
}
