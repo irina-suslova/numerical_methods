{
 "cells": [
  {
   "cell_type": "code",
   "execution_count": 4,
   "id": "5c2e73d3",
   "metadata": {},
   "outputs": [],
   "source": [
    "from sympy import *\n",
    "import numpy as np\n",
    "import matplotlib.pyplot as plt"
   ]
  },
  {
   "cell_type": "code",
   "execution_count": 5,
   "id": "8171f694",
   "metadata": {},
   "outputs": [],
   "source": [
    "# variant 27 (2)\n",
    "# f(x) = (x + 1) * cos (x)\n",
    "# [-1, 1]"
   ]
  },
  {
   "cell_type": "code",
   "execution_count": 6,
   "id": "d63d1a33",
   "metadata": {},
   "outputs": [],
   "source": [
    "# parameters that can be changed\n",
    "\n",
    "n = 200            # number of points"
   ]
  },
  {
   "cell_type": "code",
   "execution_count": 7,
   "id": "3795007a",
   "metadata": {},
   "outputs": [
    {
     "data": {
      "text/latex": [
       "$\\displaystyle \\cos{\\left(x \\right)}$"
      ],
      "text/plain": [
       "cos(x)"
      ]
     },
     "execution_count": 7,
     "metadata": {},
     "output_type": "execute_result"
    }
   ],
   "source": [
    "# function declaration\n",
    "\n",
    "a = -1\n",
    "b = 1\n",
    "\n",
    "x = symbols('x')\n",
    "f_x = cos(x)\n",
    "f_x"
   ]
  },
  {
   "cell_type": "code",
   "execution_count": 8,
   "id": "38cd7e10",
   "metadata": {},
   "outputs": [
    {
     "data": {
      "text/latex": [
       "$\\displaystyle 2 \\sin{\\left(1 \\right)}$"
      ],
      "text/plain": [
       "2*sin(1)"
      ]
     },
     "execution_count": 8,
     "metadata": {},
     "output_type": "execute_result"
    }
   ],
   "source": [
    "# value of the integral for checking\n",
    "\n",
    "answer = integrate(f_x, (x, a, b))\n",
    "answer"
   ]
  },
  {
   "cell_type": "code",
   "execution_count": 9,
   "id": "134fe9dc",
   "metadata": {},
   "outputs": [],
   "source": [
    "# rect method in function\n",
    "# return - counted value of the integral\n",
    "\n",
    "def rect_method(f_x, a, b, n):\n",
    "    h = (b - a) / n\n",
    "    coords = [ a + h * i for i in range(n) ]\n",
    "    integral = 0\n",
    "    for i in range(len(coords) - 1):\n",
    "        integral += h * f_x.subs(x, coords[i])\n",
    "    return integral"
   ]
  },
  {
   "cell_type": "code",
   "execution_count": 10,
   "id": "d834fb9b",
   "metadata": {},
   "outputs": [
    {
     "data": {
      "text/latex": [
       "$\\displaystyle 0.00550092314560313$"
      ],
      "text/plain": [
       "0.00550092314560313"
      ]
     },
     "execution_count": 10,
     "metadata": {},
     "output_type": "execute_result"
    }
   ],
   "source": [
    "abs(rect_method(f_x, a, b, n) - answer.n())"
   ]
  },
  {
   "cell_type": "code",
   "execution_count": 11,
   "id": "81feab45",
   "metadata": {},
   "outputs": [],
   "source": [
    "# trapezoidal method in function\n",
    "# return - counted value of the integral\n",
    "\n",
    "def trapezoidal_method(f_x, a, b, n):\n",
    "    h = (b - a) / n\n",
    "    coords = [ a + h * i for i in range(n) ]\n",
    "    integral = 0\n",
    "    for i in range(len(coords)):\n",
    "        coeff = 1\n",
    "        if i == 0 or i == len(coords) - 1:\n",
    "            coeff = 1/2\n",
    "        integral += h * coeff * f_x.subs(x, coords[i])\n",
    "    return integral"
   ]
  },
  {
   "cell_type": "code",
   "execution_count": 12,
   "id": "e6fe0170",
   "metadata": {},
   "outputs": [
    {
     "data": {
      "text/latex": [
       "$\\displaystyle 0.00545898537203593$"
      ],
      "text/plain": [
       "0.00545898537203593"
      ]
     },
     "execution_count": 12,
     "metadata": {},
     "output_type": "execute_result"
    }
   ],
   "source": [
    "abs(trapezoidal_method(f_x, a, b, n) - answer.n())"
   ]
  },
  {
   "cell_type": "code",
   "execution_count": 13,
   "id": "b1bbf585",
   "metadata": {},
   "outputs": [],
   "source": [
    "# simpson method in function\n",
    "# return - counted value of the integral\n",
    "\n",
    "def simpson_method(f_x, a, b, n):\n",
    "    h = (b - a) / (n)\n",
    "    coords = [ a + h * i for i in range(n) ]\n",
    "    integral = 0\n",
    "    for i in range(len(coords)):\n",
    "        integral += h / 6 * (f_x.subs(x, coords[i]) + 4 * f_x.subs(x, coords[i] + h/2) + f_x.subs(x, coords[i] + h))\n",
    "    return integral"
   ]
  },
  {
   "cell_type": "code",
   "execution_count": 14,
   "id": "ea3a06c8",
   "metadata": {},
   "outputs": [
    {
     "data": {
      "text/latex": [
       "$\\displaystyle 5.8439919570219 \\cdot 10^{-12}$"
      ],
      "text/plain": [
       "5.84399195702190e-12"
      ]
     },
     "execution_count": 14,
     "metadata": {},
     "output_type": "execute_result"
    }
   ],
   "source": [
    "abs(simpson_method(f_x, a, b, n) - answer.n())"
   ]
  },
  {
   "cell_type": "code",
   "execution_count": 16,
   "id": "6a38d12c",
   "metadata": {},
   "outputs": [
    {
     "data": {
      "text/plain": [
       "[<matplotlib.lines.Line2D at 0x14302950>]"
      ]
     },
     "execution_count": 16,
     "metadata": {},
     "output_type": "execute_result"
    },
    {
     "data": {
      "image/png": "[encoded data removed]",
      "text/plain": [
       "<Figure size 432x288 with 1 Axes>"
      ]
     },
     "metadata": {
      "needs_background": "light"
     },
     "output_type": "display_data"
    }
   ],
   "source": [
    "# plotting\n",
    "\n",
    "h_s = []\n",
    "difference_simpson = []\n",
    "difference_rect = []\n",
    "difference_trapezoidal = []\n",
    "for n_i in range(100, 1000, 50):\n",
    "    h = (b - a) / (n_i)\n",
    "    h_s.append(abs(log(h)))\n",
    "    difference_simpson.append(abs(log(abs(simpson_method(f_x, a, b, n_i) - answer.n()))))\n",
    "    difference_rect.append(abs(log(abs(rect_method(f_x, a, b, n_i) - answer.n()))))\n",
    "    difference_trapezoidal.append(abs(log(abs(trapezoidal_method(f_x, a, b, n_i) - answer.n()))))\n",
    "plt.plot(h_s, difference_rect)\n",
    "plt.plot(h_s, difference_trapezoidal)\n",
    "plt.plot(h_s, difference_simpson)"
   ]
  },
  {
   "cell_type": "code",
   "execution_count": null,
   "id": "7c9edcce",
   "metadata": {},
   "outputs": [],
   "source": []
  }
 ],
 "metadata": {
  "kernelspec": {
   "display_name": "env_methods",
   "language": "python",
   "name": "env_methods"
  },
  "language_info": {
   "codemirror_mode": {
    "name": "ipython",
    "version": 3
   },
   "file_extension": ".py",
   "mimetype": "text/x-python",
   "name": "python",
   "nbconvert_exporter": "python",
   "pygments_lexer": "ipython3",
   "version": "3.6.5"
  }
 },
 "nbformat": 4,
 "nbformat_minor": 5
}
